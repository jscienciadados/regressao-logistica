{
  "nbformat": 4,
  "nbformat_minor": 0,
  "metadata": {
    "colab": {
      "name": "Regressao-Logistica-R.ipynb",
      "provenance": [],
      "collapsed_sections": [],
      "include_colab_link": true
    },
    "kernelspec": {
      "name": "ir",
      "display_name": "R"
    }
  },
  "cells": [
    {
      "cell_type": "markdown",
      "metadata": {
        "id": "view-in-github",
        "colab_type": "text"
      },
      "source": [
        "<a href=\"https://colab.research.google.com/github/jscienciadados/regressao-logistica/blob/main/Regressao_Logistica_R.ipynb\" target=\"_parent\"><img src=\"https://colab.research.google.com/assets/colab-badge.svg\" alt=\"Open In Colab\"/></a>"
      ]
    },
    {
      "cell_type": "markdown",
      "metadata": {
        "id": "PRTeqPL5VlVk"
      },
      "source": [
        "## Regressão Logistica - Usando o R"
      ]
    },
    {
      "cell_type": "markdown",
      "metadata": {
        "id": "ulxbPwBt3II5"
      },
      "source": [
        "## Previsão e Detecção de Risco de Crédito"
      ]
    },
    {
      "cell_type": "code",
      "metadata": {
        "id": "Z60PpIfIeF4Z",
        "colab": {
          "base_uri": "https://localhost:8080/"
        },
        "outputId": "da420a27-77b8-4945-ae56-abd95e2b2d23"
      },
      "source": [
        "install.packages(\"caret\", dependencies = T)\n",
        "install.packages(\"ROCR\", dependencies = T)\n",
        "install.packages(\"e1071\", dependencies = T)"
      ],
      "execution_count": 1,
      "outputs": [
        {
          "output_type": "stream",
          "text": [
            "Installing package into ‘/usr/local/lib/R/site-library’\n",
            "(as ‘lib’ is unspecified)\n",
            "\n",
            "also installing the dependencies ‘sass’, ‘jquerylib’, ‘R.methodsS3’, ‘R.oo’, ‘R.utils’, ‘bitops’, ‘numDeriv’, ‘SQUAREM’, ‘httpuv’, ‘xtable’, ‘sourcetools’, ‘later’, ‘promises’, ‘bslib’, ‘R.cache’, ‘caTools’, ‘TH.data’, ‘profileModel’, ‘minqa’, ‘nloptr’, ‘RcppEigen’, ‘plotrix’, ‘lava’, ‘shiny’, ‘miniUI’, ‘styler’, ‘classInt’, ‘labelled’, ‘gplots’, ‘libcoin’, ‘matrixStats’, ‘multcomp’, ‘lazyeval’, ‘iterators’, ‘gower’, ‘timeDate’, ‘brglm’, ‘gtools’, ‘lme4’, ‘qvcalc’, ‘Formula’, ‘plotmo’, ‘TeachingDemos’, ‘prodlim’, ‘combinat’, ‘questionr’, ‘ROCR’, ‘mvtnorm’, ‘modeltools’, ‘strucchange’, ‘coin’, ‘zoo’, ‘sandwich’, ‘ISwR’, ‘corpcor’, ‘rex’, ‘foreach’, ‘plyr’, ‘ModelMetrics’, ‘reshape2’, ‘recipes’, ‘pROC’, ‘BradleyTerry2’, ‘e1071’, ‘earth’, ‘fastICA’, ‘gam’, ‘ipred’, ‘kernlab’, ‘klaR’, ‘ellipse’, ‘mda’, ‘mlbench’, ‘MLmetrics’, ‘party’, ‘pls’, ‘proxy’, ‘randomForest’, ‘RANN’, ‘spls’, ‘subselect’, ‘pamr’, ‘superpc’, ‘Cubist’, ‘covr’\n",
            "\n",
            "\n",
            "Installing package into ‘/usr/local/lib/R/site-library’\n",
            "(as ‘lib’ is unspecified)\n",
            "\n",
            "Installing package into ‘/usr/local/lib/R/site-library’\n",
            "(as ‘lib’ is unspecified)\n",
            "\n",
            "also installing the dependencies ‘SparseM’, ‘slam’\n",
            "\n",
            "\n"
          ],
          "name": "stderr"
        }
      ]
    },
    {
      "cell_type": "code",
      "metadata": {
        "id": "rCEtur7fajGn",
        "colab": {
          "base_uri": "https://localhost:8080/"
        },
        "outputId": "f39f06d9-3c1c-4fba-b7b4-e27b1f79663a"
      },
      "source": [
        "library(caret)\n",
        "library(ROCR)\n",
        "library(e1071)"
      ],
      "execution_count": 2,
      "outputs": [
        {
          "output_type": "stream",
          "text": [
            "Loading required package: lattice\n",
            "\n",
            "Loading required package: ggplot2\n",
            "\n",
            "Warning message in system(\"timedatectl\", intern = TRUE):\n",
            "“running command 'timedatectl' had status 1”\n"
          ],
          "name": "stderr"
        }
      ]
    },
    {
      "cell_type": "markdown",
      "metadata": {
        "id": "J3UwPEkF8_oT"
      },
      "source": [
        "## Carregando os dados"
      ]
    },
    {
      "cell_type": "code",
      "metadata": {
        "id": "3o11KxDzyC0g",
        "colab": {
          "base_uri": "https://localhost:8080/",
          "height": 306
        },
        "outputId": "0d715041-c39a-48fc-e99c-5d26aba69410"
      },
      "source": [
        "credito <- read.csv(\"dados/credit_dataset_final.csv\", header = TRUE, sep = \",\")\n",
        "head(credito)"
      ],
      "execution_count": 3,
      "outputs": [
        {
          "output_type": "display_data",
          "data": {
            "text/plain": [
              "  credit.rating account.balance credit.duration.months\n",
              "1 1             1               18                    \n",
              "2 1             1                9                    \n",
              "3 1             2               12                    \n",
              "4 1             1               12                    \n",
              "5 1             1               12                    \n",
              "6 1             1               10                    \n",
              "  previous.credit.payment.status credit.purpose credit.amount savings\n",
              "1 3                              2              1049          1      \n",
              "2 3                              4              2799          1      \n",
              "3 2                              4               841          2      \n",
              "4 3                              4              2122          1      \n",
              "5 3                              4              2171          1      \n",
              "6 3                              4              2241          1      \n",
              "  employment.duration installment.rate marital.status ⋯ residence.duration\n",
              "1 1                   4                1              ⋯ 4                 \n",
              "2 2                   2                3              ⋯ 2                 \n",
              "3 3                   2                1              ⋯ 4                 \n",
              "4 2                   3                3              ⋯ 2                 \n",
              "5 2                   4                3              ⋯ 4                 \n",
              "6 1                   1                3              ⋯ 3                 \n",
              "  current.assets age other.credits apartment.type bank.credits occupation\n",
              "1 2              21  2             1              1            3         \n",
              "2 1              36  2             1              2            3         \n",
              "3 1              23  2             1              1            2         \n",
              "4 1              39  2             1              2            2         \n",
              "5 2              38  1             2              2            2         \n",
              "6 1              48  2             1              2            2         \n",
              "  dependents telephone foreign.worker\n",
              "1 1          1         1             \n",
              "2 2          1         1             \n",
              "3 1          1         1             \n",
              "4 2          1         2             \n",
              "5 1          1         2             \n",
              "6 2          1         2             "
            ],
            "text/latex": "A data.frame: 6 × 21\n\\begin{tabular}{r|lllllllllllllllllllll}\n  & credit.rating & account.balance & credit.duration.months & previous.credit.payment.status & credit.purpose & credit.amount & savings & employment.duration & installment.rate & marital.status & ⋯ & residence.duration & current.assets & age & other.credits & apartment.type & bank.credits & occupation & dependents & telephone & foreign.worker\\\\\n  & <int> & <int> & <int> & <int> & <int> & <int> & <int> & <int> & <int> & <int> & ⋯ & <int> & <int> & <int> & <int> & <int> & <int> & <int> & <int> & <int> & <int>\\\\\n\\hline\n\t1 & 1 & 1 & 18 & 3 & 2 & 1049 & 1 & 1 & 4 & 1 & ⋯ & 4 & 2 & 21 & 2 & 1 & 1 & 3 & 1 & 1 & 1\\\\\n\t2 & 1 & 1 &  9 & 3 & 4 & 2799 & 1 & 2 & 2 & 3 & ⋯ & 2 & 1 & 36 & 2 & 1 & 2 & 3 & 2 & 1 & 1\\\\\n\t3 & 1 & 2 & 12 & 2 & 4 &  841 & 2 & 3 & 2 & 1 & ⋯ & 4 & 1 & 23 & 2 & 1 & 1 & 2 & 1 & 1 & 1\\\\\n\t4 & 1 & 1 & 12 & 3 & 4 & 2122 & 1 & 2 & 3 & 3 & ⋯ & 2 & 1 & 39 & 2 & 1 & 2 & 2 & 2 & 1 & 2\\\\\n\t5 & 1 & 1 & 12 & 3 & 4 & 2171 & 1 & 2 & 4 & 3 & ⋯ & 4 & 2 & 38 & 1 & 2 & 2 & 2 & 1 & 1 & 2\\\\\n\t6 & 1 & 1 & 10 & 3 & 4 & 2241 & 1 & 1 & 1 & 3 & ⋯ & 3 & 1 & 48 & 2 & 1 & 2 & 2 & 2 & 1 & 2\\\\\n\\end{tabular}\n",
            "text/markdown": "\nA data.frame: 6 × 21\n\n| <!--/--> | credit.rating &lt;int&gt; | account.balance &lt;int&gt; | credit.duration.months &lt;int&gt; | previous.credit.payment.status &lt;int&gt; | credit.purpose &lt;int&gt; | credit.amount &lt;int&gt; | savings &lt;int&gt; | employment.duration &lt;int&gt; | installment.rate &lt;int&gt; | marital.status &lt;int&gt; | ⋯ ⋯ | residence.duration &lt;int&gt; | current.assets &lt;int&gt; | age &lt;int&gt; | other.credits &lt;int&gt; | apartment.type &lt;int&gt; | bank.credits &lt;int&gt; | occupation &lt;int&gt; | dependents &lt;int&gt; | telephone &lt;int&gt; | foreign.worker &lt;int&gt; |\n|---|---|---|---|---|---|---|---|---|---|---|---|---|---|---|---|---|---|---|---|---|---|\n| 1 | 1 | 1 | 18 | 3 | 2 | 1049 | 1 | 1 | 4 | 1 | ⋯ | 4 | 2 | 21 | 2 | 1 | 1 | 3 | 1 | 1 | 1 |\n| 2 | 1 | 1 |  9 | 3 | 4 | 2799 | 1 | 2 | 2 | 3 | ⋯ | 2 | 1 | 36 | 2 | 1 | 2 | 3 | 2 | 1 | 1 |\n| 3 | 1 | 2 | 12 | 2 | 4 |  841 | 2 | 3 | 2 | 1 | ⋯ | 4 | 1 | 23 | 2 | 1 | 1 | 2 | 1 | 1 | 1 |\n| 4 | 1 | 1 | 12 | 3 | 4 | 2122 | 1 | 2 | 3 | 3 | ⋯ | 2 | 1 | 39 | 2 | 1 | 2 | 2 | 2 | 1 | 2 |\n| 5 | 1 | 1 | 12 | 3 | 4 | 2171 | 1 | 2 | 4 | 3 | ⋯ | 4 | 2 | 38 | 1 | 2 | 2 | 2 | 1 | 1 | 2 |\n| 6 | 1 | 1 | 10 | 3 | 4 | 2241 | 1 | 1 | 1 | 3 | ⋯ | 3 | 1 | 48 | 2 | 1 | 2 | 2 | 2 | 1 | 2 |\n\n",
            "text/html": [
              "<table class=\"dataframe\">\n",
              "<caption>A data.frame: 6 × 21</caption>\n",
              "<thead>\n",
              "\t<tr><th></th><th scope=col>credit.rating</th><th scope=col>account.balance</th><th scope=col>credit.duration.months</th><th scope=col>previous.credit.payment.status</th><th scope=col>credit.purpose</th><th scope=col>credit.amount</th><th scope=col>savings</th><th scope=col>employment.duration</th><th scope=col>installment.rate</th><th scope=col>marital.status</th><th scope=col>⋯</th><th scope=col>residence.duration</th><th scope=col>current.assets</th><th scope=col>age</th><th scope=col>other.credits</th><th scope=col>apartment.type</th><th scope=col>bank.credits</th><th scope=col>occupation</th><th scope=col>dependents</th><th scope=col>telephone</th><th scope=col>foreign.worker</th></tr>\n",
              "\t<tr><th></th><th scope=col>&lt;int&gt;</th><th scope=col>&lt;int&gt;</th><th scope=col>&lt;int&gt;</th><th scope=col>&lt;int&gt;</th><th scope=col>&lt;int&gt;</th><th scope=col>&lt;int&gt;</th><th scope=col>&lt;int&gt;</th><th scope=col>&lt;int&gt;</th><th scope=col>&lt;int&gt;</th><th scope=col>&lt;int&gt;</th><th scope=col>⋯</th><th scope=col>&lt;int&gt;</th><th scope=col>&lt;int&gt;</th><th scope=col>&lt;int&gt;</th><th scope=col>&lt;int&gt;</th><th scope=col>&lt;int&gt;</th><th scope=col>&lt;int&gt;</th><th scope=col>&lt;int&gt;</th><th scope=col>&lt;int&gt;</th><th scope=col>&lt;int&gt;</th><th scope=col>&lt;int&gt;</th></tr>\n",
              "</thead>\n",
              "<tbody>\n",
              "\t<tr><th scope=row>1</th><td>1</td><td>1</td><td>18</td><td>3</td><td>2</td><td>1049</td><td>1</td><td>1</td><td>4</td><td>1</td><td>⋯</td><td>4</td><td>2</td><td>21</td><td>2</td><td>1</td><td>1</td><td>3</td><td>1</td><td>1</td><td>1</td></tr>\n",
              "\t<tr><th scope=row>2</th><td>1</td><td>1</td><td> 9</td><td>3</td><td>4</td><td>2799</td><td>1</td><td>2</td><td>2</td><td>3</td><td>⋯</td><td>2</td><td>1</td><td>36</td><td>2</td><td>1</td><td>2</td><td>3</td><td>2</td><td>1</td><td>1</td></tr>\n",
              "\t<tr><th scope=row>3</th><td>1</td><td>2</td><td>12</td><td>2</td><td>4</td><td> 841</td><td>2</td><td>3</td><td>2</td><td>1</td><td>⋯</td><td>4</td><td>1</td><td>23</td><td>2</td><td>1</td><td>1</td><td>2</td><td>1</td><td>1</td><td>1</td></tr>\n",
              "\t<tr><th scope=row>4</th><td>1</td><td>1</td><td>12</td><td>3</td><td>4</td><td>2122</td><td>1</td><td>2</td><td>3</td><td>3</td><td>⋯</td><td>2</td><td>1</td><td>39</td><td>2</td><td>1</td><td>2</td><td>2</td><td>2</td><td>1</td><td>2</td></tr>\n",
              "\t<tr><th scope=row>5</th><td>1</td><td>1</td><td>12</td><td>3</td><td>4</td><td>2171</td><td>1</td><td>2</td><td>4</td><td>3</td><td>⋯</td><td>4</td><td>2</td><td>38</td><td>1</td><td>2</td><td>2</td><td>2</td><td>1</td><td>1</td><td>2</td></tr>\n",
              "\t<tr><th scope=row>6</th><td>1</td><td>1</td><td>10</td><td>3</td><td>4</td><td>2241</td><td>1</td><td>1</td><td>1</td><td>3</td><td>⋯</td><td>3</td><td>1</td><td>48</td><td>2</td><td>1</td><td>2</td><td>2</td><td>2</td><td>1</td><td>2</td></tr>\n",
              "</tbody>\n",
              "</table>\n"
            ]
          },
          "metadata": {
            "tags": []
          }
        }
      ]
    },
    {
      "cell_type": "markdown",
      "metadata": {
        "id": "8yyO8E489DsJ"
      },
      "source": [
        "## Análise Exploratória dos Dados"
      ]
    },
    {
      "cell_type": "code",
      "metadata": {
        "id": "IS3VN3qamf20",
        "colab": {
          "base_uri": "https://localhost:8080/",
          "height": 746
        },
        "outputId": "e51c541a-26b0-49b4-f117-f5d541be3c4b"
      },
      "source": [
        "# Sumario dos dados\n",
        "#print(summary(credito))\n",
        "View(summary(credito))"
      ],
      "execution_count": 6,
      "outputs": [
        {
          "output_type": "display_data",
          "data": {
            "text/plain": [
              " credit.rating account.balance credit.duration.months\n",
              " Min.   :0.0   Min.   :1.000   Min.   : 4.0          \n",
              " 1st Qu.:0.0   1st Qu.:1.000   1st Qu.:12.0          \n",
              " Median :1.0   Median :2.000   Median :18.0          \n",
              " Mean   :0.7   Mean   :2.183   Mean   :20.9          \n",
              " 3rd Qu.:1.0   3rd Qu.:3.000   3rd Qu.:24.0          \n",
              " Max.   :1.0   Max.   :3.000   Max.   :72.0          \n",
              " previous.credit.payment.status credit.purpose  credit.amount      savings     \n",
              " Min.   :1.000                  Min.   :1.000   Min.   :  250   Min.   :1.000  \n",
              " 1st Qu.:2.000                  1st Qu.:2.000   1st Qu.: 1366   1st Qu.:1.000  \n",
              " Median :2.000                  Median :3.000   Median : 2320   Median :1.000  \n",
              " Mean   :2.292                  Mean   :2.965   Mean   : 3271   Mean   :1.874  \n",
              " 3rd Qu.:3.000                  3rd Qu.:4.000   3rd Qu.: 3972   3rd Qu.:3.000  \n",
              " Max.   :3.000                  Max.   :4.000   Max.   :18424   Max.   :4.000  \n",
              " employment.duration installment.rate marital.status    guarantor    \n",
              " Min.   :1.000       Min.   :1.000    Min.   :1.000   Min.   :1.000  \n",
              " 1st Qu.:2.000       1st Qu.:2.000    1st Qu.:1.000   1st Qu.:1.000  \n",
              " Median :2.000       Median :3.000    Median :3.000   Median :1.000  \n",
              " Mean   :2.446       Mean   :2.973    Mean   :2.372   Mean   :1.093  \n",
              " 3rd Qu.:4.000       3rd Qu.:4.000    3rd Qu.:3.000   3rd Qu.:1.000  \n",
              " Max.   :4.000       Max.   :4.000    Max.   :4.000   Max.   :2.000  \n",
              " residence.duration current.assets       age        other.credits  \n",
              " Min.   :1.000      Min.   :1.000   Min.   :19.00   Min.   :1.000  \n",
              " 1st Qu.:2.000      1st Qu.:1.000   1st Qu.:27.00   1st Qu.:2.000  \n",
              " Median :3.000      Median :2.000   Median :33.00   Median :2.000  \n",
              " Mean   :2.845      Mean   :2.358   Mean   :35.54   Mean   :1.814  \n",
              " 3rd Qu.:4.000      3rd Qu.:3.000   3rd Qu.:42.00   3rd Qu.:2.000  \n",
              " Max.   :4.000      Max.   :4.000   Max.   :75.00   Max.   :2.000  \n",
              " apartment.type   bank.credits     occupation      dependents   \n",
              " Min.   :1.000   Min.   :1.000   Min.   :1.000   Min.   :1.000  \n",
              " 1st Qu.:2.000   1st Qu.:1.000   1st Qu.:3.000   1st Qu.:1.000  \n",
              " Median :2.000   Median :1.000   Median :3.000   Median :1.000  \n",
              " Mean   :1.928   Mean   :1.367   Mean   :2.904   Mean   :1.155  \n",
              " 3rd Qu.:2.000   3rd Qu.:2.000   3rd Qu.:3.000   3rd Qu.:1.000  \n",
              " Max.   :3.000   Max.   :2.000   Max.   :4.000   Max.   :2.000  \n",
              "   telephone     foreign.worker \n",
              " Min.   :1.000   Min.   :1.000  \n",
              " 1st Qu.:1.000   1st Qu.:1.000  \n",
              " Median :1.000   Median :1.000  \n",
              " Mean   :1.404   Mean   :1.037  \n",
              " 3rd Qu.:2.000   3rd Qu.:1.000  \n",
              " Max.   :2.000   Max.   :2.000  "
            ]
          },
          "metadata": {
            "tags": []
          }
        }
      ]
    },
    {
      "cell_type": "code",
      "metadata": {
        "colab": {
          "base_uri": "https://localhost:8080/"
        },
        "id": "k0Tw7G8O83I1",
        "outputId": "cdad4eed-42c7-4555-fc0e-679ffdf0b890"
      },
      "source": [
        "str(credito)"
      ],
      "execution_count": 7,
      "outputs": [
        {
          "output_type": "stream",
          "text": [
            "'data.frame':\t1000 obs. of  21 variables:\n",
            " $ credit.rating                 : int  1 1 1 1 1 1 1 1 1 1 ...\n",
            " $ account.balance               : int  1 1 2 1 1 1 1 1 3 2 ...\n",
            " $ credit.duration.months        : int  18 9 12 12 12 10 8 6 18 24 ...\n",
            " $ previous.credit.payment.status: int  3 3 2 3 3 3 3 3 3 2 ...\n",
            " $ credit.purpose                : int  2 4 4 4 4 4 4 4 3 3 ...\n",
            " $ credit.amount                 : int  1049 2799 841 2122 2171 2241 3398 1361 1098 3758 ...\n",
            " $ savings                       : int  1 1 2 1 1 1 1 1 1 3 ...\n",
            " $ employment.duration           : int  1 2 3 2 2 1 3 1 1 1 ...\n",
            " $ installment.rate              : int  4 2 2 3 4 1 1 2 4 1 ...\n",
            " $ marital.status                : int  1 3 1 3 3 3 3 3 1 1 ...\n",
            " $ guarantor                     : int  1 1 1 1 1 1 1 1 1 1 ...\n",
            " $ residence.duration            : int  4 2 4 2 4 3 4 4 4 4 ...\n",
            " $ current.assets                : int  2 1 1 1 2 1 1 1 3 4 ...\n",
            " $ age                           : int  21 36 23 39 38 48 39 40 65 23 ...\n",
            " $ other.credits                 : int  2 2 2 2 1 2 2 2 2 2 ...\n",
            " $ apartment.type                : int  1 1 1 1 2 1 2 2 2 1 ...\n",
            " $ bank.credits                  : int  1 2 1 2 2 2 2 1 2 1 ...\n",
            " $ occupation                    : int  3 3 2 2 2 2 2 2 1 1 ...\n",
            " $ dependents                    : int  1 2 1 2 1 2 1 2 1 1 ...\n",
            " $ telephone                     : int  1 1 1 1 1 1 1 1 1 1 ...\n",
            " $ foreign.worker                : int  1 1 1 2 2 2 2 2 1 1 ...\n"
          ],
          "name": "stdout"
        }
      ]
    },
    {
      "cell_type": "markdown",
      "metadata": {
        "id": "sZXSlJ7r9QGl"
      },
      "source": [
        "## Pré-Processamento"
      ]
    },
    {
      "cell_type": "markdown",
      "metadata": {
        "id": "-pRUAMuF-EGS"
      },
      "source": [
        "## Normalização das variáveis"
      ]
    },
    {
      "cell_type": "code",
      "metadata": {
        "id": "u2esK7FO_tu3"
      },
      "source": [
        "# Transformando variáveis em fatores\n",
        "to.factors <- function(df, variables){\n",
        "  for (variable in variables){\n",
        "    df[[variable]] <- as.factor(df[[variable]])\n",
        "  }\n",
        "  return(df)\n",
        "}\n",
        "\n"
      ],
      "execution_count": 8,
      "outputs": []
    },
    {
      "cell_type": "code",
      "metadata": {
        "id": "HYYZNSSRbZfz"
      },
      "source": [
        "# Normalização\n",
        "scale.features <- function(df, variables){\n",
        "  for (variable in variables){\n",
        "    df[[variable]] <- scale(df[[variable]], center = T, scale = T)\n",
        "  }\n",
        "  return(df)\n",
        "}"
      ],
      "execution_count": 9,
      "outputs": []
    },
    {
      "cell_type": "code",
      "metadata": {
        "id": "KQH3RAq-b4UZ"
      },
      "source": [
        "# Normalizando as variáveis\n",
        "numeric.vars <- c(\"credit.duration.months\", \"age\", \"credit.amount\")\n",
        "credito_dataset_scaled <- scale.features(credito, numeric.vars)"
      ],
      "execution_count": 11,
      "outputs": []
    },
    {
      "cell_type": "code",
      "metadata": {
        "id": "f4AJ5_O2b9kO"
      },
      "source": [
        "# Variáveis do tipo fator\n",
        "categorical.vars <- c('credit.rating', 'account.balance', 'previous.credit.payment.status',\n",
        "                      'credit.purpose', 'savings', 'employment.duration', 'installment.rate',\n",
        "                      'marital.status', 'guarantor', 'residence.duration', 'current.assets',\n",
        "                      'other.credits', 'apartment.type', 'bank.credits', 'occupation',\n",
        "                      'dependents', 'telephone', 'foreign.worker')\n",
        "\n"
      ],
      "execution_count": 12,
      "outputs": []
    },
    {
      "cell_type": "code",
      "metadata": {
        "colab": {
          "base_uri": "https://localhost:8080/",
          "height": 1000
        },
        "id": "kZV_io_Ucegq",
        "outputId": "1bfd08b5-41ee-41f6-d487-e3ed3ac341b3"
      },
      "source": [
        "# Aplicando as conversões ao dataset\n",
        "credito_dataset_final <- to.factors(df = credito_dataset_scaled, variables = categorical.vars)\n",
        "head(credito_dataset_final)\n",
        "summary(credito_dataset_final)\n",
        "View(credito_dataset_final)\n",
        "\n"
      ],
      "execution_count": 13,
      "outputs": [
        {
          "output_type": "display_data",
          "data": {
            "text/plain": [
              "  credit.rating account.balance credit.duration.months\n",
              "1 1             1               -0.2407368            \n",
              "2 1             1               -0.9870788            \n",
              "3 1             2               -0.7382981            \n",
              "4 1             1               -0.7382981            \n",
              "5 1             1               -0.7382981            \n",
              "6 1             1               -0.9041519            \n",
              "  previous.credit.payment.status credit.purpose credit.amount savings\n",
              "1 3                              2              -0.7872630    1      \n",
              "2 3                              4              -0.1673006    1      \n",
              "3 2                              4              -0.8609500    2      \n",
              "4 3                              4              -0.4071375    1      \n",
              "5 3                              4              -0.3897785    1      \n",
              "6 3                              4              -0.3649800    1      \n",
              "  employment.duration installment.rate marital.status ⋯ residence.duration\n",
              "1 1                   4                1              ⋯ 4                 \n",
              "2 2                   2                3              ⋯ 2                 \n",
              "3 3                   2                1              ⋯ 4                 \n",
              "4 2                   3                3              ⋯ 2                 \n",
              "5 2                   4                3              ⋯ 4                 \n",
              "6 1                   1                3              ⋯ 3                 \n",
              "  current.assets age         other.credits apartment.type bank.credits\n",
              "1 2              -1.28093214 2             1              1           \n",
              "2 1               0.04034293 2             1              2           \n",
              "3 1              -1.10476213 2             1              1           \n",
              "4 1               0.30459795 2             1              2           \n",
              "5 2               0.21651294 1             2              2           \n",
              "6 1               1.09736299 2             1              2           \n",
              "  occupation dependents telephone foreign.worker\n",
              "1 3          1          1         1             \n",
              "2 3          2          1         1             \n",
              "3 2          1          1         1             \n",
              "4 2          2          1         2             \n",
              "5 2          1          1         2             \n",
              "6 2          2          1         2             "
            ],
            "text/latex": "A data.frame: 6 × 21\n\\begin{tabular}{r|lllllllllllllllllllll}\n  & credit.rating & account.balance & credit.duration.months & previous.credit.payment.status & credit.purpose & credit.amount & savings & employment.duration & installment.rate & marital.status & ⋯ & residence.duration & current.assets & age & other.credits & apartment.type & bank.credits & occupation & dependents & telephone & foreign.worker\\\\\n  & <fct> & <fct> & <dbl{[},1{]}> & <fct> & <fct> & <dbl{[},1{]}> & <fct> & <fct> & <fct> & <fct> & ⋯ & <fct> & <fct> & <dbl{[},1{]}> & <fct> & <fct> & <fct> & <fct> & <fct> & <fct> & <fct>\\\\\n\\hline\n\t1 & 1 & 1 & -0.2407368 & 3 & 2 & -0.7872630 & 1 & 1 & 4 & 1 & ⋯ & 4 & 2 & -1.28093214 & 2 & 1 & 1 & 3 & 1 & 1 & 1\\\\\n\t2 & 1 & 1 & -0.9870788 & 3 & 4 & -0.1673006 & 1 & 2 & 2 & 3 & ⋯ & 2 & 1 &  0.04034293 & 2 & 1 & 2 & 3 & 2 & 1 & 1\\\\\n\t3 & 1 & 2 & -0.7382981 & 2 & 4 & -0.8609500 & 2 & 3 & 2 & 1 & ⋯ & 4 & 1 & -1.10476213 & 2 & 1 & 1 & 2 & 1 & 1 & 1\\\\\n\t4 & 1 & 1 & -0.7382981 & 3 & 4 & -0.4071375 & 1 & 2 & 3 & 3 & ⋯ & 2 & 1 &  0.30459795 & 2 & 1 & 2 & 2 & 2 & 1 & 2\\\\\n\t5 & 1 & 1 & -0.7382981 & 3 & 4 & -0.3897785 & 1 & 2 & 4 & 3 & ⋯ & 4 & 2 &  0.21651294 & 1 & 2 & 2 & 2 & 1 & 1 & 2\\\\\n\t6 & 1 & 1 & -0.9041519 & 3 & 4 & -0.3649800 & 1 & 1 & 1 & 3 & ⋯ & 3 & 1 &  1.09736299 & 2 & 1 & 2 & 2 & 2 & 1 & 2\\\\\n\\end{tabular}\n",
            "text/markdown": "\nA data.frame: 6 × 21\n\n| <!--/--> | credit.rating &lt;fct&gt; | account.balance &lt;fct&gt; | credit.duration.months &lt;dbl[,1]&gt; | previous.credit.payment.status &lt;fct&gt; | credit.purpose &lt;fct&gt; | credit.amount &lt;dbl[,1]&gt; | savings &lt;fct&gt; | employment.duration &lt;fct&gt; | installment.rate &lt;fct&gt; | marital.status &lt;fct&gt; | ⋯ ⋯ | residence.duration &lt;fct&gt; | current.assets &lt;fct&gt; | age &lt;dbl[,1]&gt; | other.credits &lt;fct&gt; | apartment.type &lt;fct&gt; | bank.credits &lt;fct&gt; | occupation &lt;fct&gt; | dependents &lt;fct&gt; | telephone &lt;fct&gt; | foreign.worker &lt;fct&gt; |\n|---|---|---|---|---|---|---|---|---|---|---|---|---|---|---|---|---|---|---|---|---|---|\n| 1 | 1 | 1 | -0.2407368 | 3 | 2 | -0.7872630 | 1 | 1 | 4 | 1 | ⋯ | 4 | 2 | -1.28093214 | 2 | 1 | 1 | 3 | 1 | 1 | 1 |\n| 2 | 1 | 1 | -0.9870788 | 3 | 4 | -0.1673006 | 1 | 2 | 2 | 3 | ⋯ | 2 | 1 |  0.04034293 | 2 | 1 | 2 | 3 | 2 | 1 | 1 |\n| 3 | 1 | 2 | -0.7382981 | 2 | 4 | -0.8609500 | 2 | 3 | 2 | 1 | ⋯ | 4 | 1 | -1.10476213 | 2 | 1 | 1 | 2 | 1 | 1 | 1 |\n| 4 | 1 | 1 | -0.7382981 | 3 | 4 | -0.4071375 | 1 | 2 | 3 | 3 | ⋯ | 2 | 1 |  0.30459795 | 2 | 1 | 2 | 2 | 2 | 1 | 2 |\n| 5 | 1 | 1 | -0.7382981 | 3 | 4 | -0.3897785 | 1 | 2 | 4 | 3 | ⋯ | 4 | 2 |  0.21651294 | 1 | 2 | 2 | 2 | 1 | 1 | 2 |\n| 6 | 1 | 1 | -0.9041519 | 3 | 4 | -0.3649800 | 1 | 1 | 1 | 3 | ⋯ | 3 | 1 |  1.09736299 | 2 | 1 | 2 | 2 | 2 | 1 | 2 |\n\n",
            "text/html": [
              "<table class=\"dataframe\">\n",
              "<caption>A data.frame: 6 × 21</caption>\n",
              "<thead>\n",
              "\t<tr><th></th><th scope=col>credit.rating</th><th scope=col>account.balance</th><th scope=col>credit.duration.months</th><th scope=col>previous.credit.payment.status</th><th scope=col>credit.purpose</th><th scope=col>credit.amount</th><th scope=col>savings</th><th scope=col>employment.duration</th><th scope=col>installment.rate</th><th scope=col>marital.status</th><th scope=col>⋯</th><th scope=col>residence.duration</th><th scope=col>current.assets</th><th scope=col>age</th><th scope=col>other.credits</th><th scope=col>apartment.type</th><th scope=col>bank.credits</th><th scope=col>occupation</th><th scope=col>dependents</th><th scope=col>telephone</th><th scope=col>foreign.worker</th></tr>\n",
              "\t<tr><th></th><th scope=col>&lt;fct&gt;</th><th scope=col>&lt;fct&gt;</th><th scope=col>&lt;dbl[,1]&gt;</th><th scope=col>&lt;fct&gt;</th><th scope=col>&lt;fct&gt;</th><th scope=col>&lt;dbl[,1]&gt;</th><th scope=col>&lt;fct&gt;</th><th scope=col>&lt;fct&gt;</th><th scope=col>&lt;fct&gt;</th><th scope=col>&lt;fct&gt;</th><th scope=col>⋯</th><th scope=col>&lt;fct&gt;</th><th scope=col>&lt;fct&gt;</th><th scope=col>&lt;dbl[,1]&gt;</th><th scope=col>&lt;fct&gt;</th><th scope=col>&lt;fct&gt;</th><th scope=col>&lt;fct&gt;</th><th scope=col>&lt;fct&gt;</th><th scope=col>&lt;fct&gt;</th><th scope=col>&lt;fct&gt;</th><th scope=col>&lt;fct&gt;</th></tr>\n",
              "</thead>\n",
              "<tbody>\n",
              "\t<tr><th scope=row>1</th><td>1</td><td>1</td><td>-0.2407368</td><td>3</td><td>2</td><td>-0.7872630</td><td>1</td><td>1</td><td>4</td><td>1</td><td>⋯</td><td>4</td><td>2</td><td>-1.28093214</td><td>2</td><td>1</td><td>1</td><td>3</td><td>1</td><td>1</td><td>1</td></tr>\n",
              "\t<tr><th scope=row>2</th><td>1</td><td>1</td><td>-0.9870788</td><td>3</td><td>4</td><td>-0.1673006</td><td>1</td><td>2</td><td>2</td><td>3</td><td>⋯</td><td>2</td><td>1</td><td> 0.04034293</td><td>2</td><td>1</td><td>2</td><td>3</td><td>2</td><td>1</td><td>1</td></tr>\n",
              "\t<tr><th scope=row>3</th><td>1</td><td>2</td><td>-0.7382981</td><td>2</td><td>4</td><td>-0.8609500</td><td>2</td><td>3</td><td>2</td><td>1</td><td>⋯</td><td>4</td><td>1</td><td>-1.10476213</td><td>2</td><td>1</td><td>1</td><td>2</td><td>1</td><td>1</td><td>1</td></tr>\n",
              "\t<tr><th scope=row>4</th><td>1</td><td>1</td><td>-0.7382981</td><td>3</td><td>4</td><td>-0.4071375</td><td>1</td><td>2</td><td>3</td><td>3</td><td>⋯</td><td>2</td><td>1</td><td> 0.30459795</td><td>2</td><td>1</td><td>2</td><td>2</td><td>2</td><td>1</td><td>2</td></tr>\n",
              "\t<tr><th scope=row>5</th><td>1</td><td>1</td><td>-0.7382981</td><td>3</td><td>4</td><td>-0.3897785</td><td>1</td><td>2</td><td>4</td><td>3</td><td>⋯</td><td>4</td><td>2</td><td> 0.21651294</td><td>1</td><td>2</td><td>2</td><td>2</td><td>1</td><td>1</td><td>2</td></tr>\n",
              "\t<tr><th scope=row>6</th><td>1</td><td>1</td><td>-0.9041519</td><td>3</td><td>4</td><td>-0.3649800</td><td>1</td><td>1</td><td>1</td><td>3</td><td>⋯</td><td>3</td><td>1</td><td> 1.09736299</td><td>2</td><td>1</td><td>2</td><td>2</td><td>2</td><td>1</td><td>2</td></tr>\n",
              "</tbody>\n",
              "</table>\n"
            ]
          },
          "metadata": {
            "tags": []
          }
        },
        {
          "output_type": "display_data",
          "data": {
            "text/plain": [
              " credit.rating account.balance credit.duration.months.V1\n",
              " 0:300         1:274           Min.   :-1.401713        \n",
              " 1:700         2:269           1st Qu.:-0.738298        \n",
              "               3:457           Median :-0.240737        \n",
              "                               Mean   : 0.000000        \n",
              "                               3rd Qu.: 0.256825        \n",
              "                               Max.   : 4.237315        \n",
              " previous.credit.payment.status credit.purpose  credit.amount.V1   savings\n",
              " 1: 89                          1:103          Min.   :-1.070320   1:603  \n",
              " 2:530                          2:181          1st Qu.:-0.675138   2:103  \n",
              " 3:381                          3:364          Median :-0.337170   3:111  \n",
              "                                4:352          Mean   : 0.000000   4:183  \n",
              "                                               3rd Qu.: 0.248340          \n",
              "                                               Max.   : 5.368078          \n",
              " employment.duration installment.rate marital.status guarantor\n",
              " 1:234               1:136            1:360          1:907    \n",
              " 2:339               2:231            3:548          2: 93    \n",
              " 3:174               3:157            4: 92                   \n",
              " 4:253               4:476                                    \n",
              "                                                              \n",
              "                                                              \n",
              " residence.duration current.assets       age.V1        other.credits\n",
              " 1:130              1:282          Min.   :-1.457102   1:186        \n",
              " 2:308              2:232          1st Qu.:-0.752422   2:814        \n",
              " 3:149              3:332          Median :-0.223912                \n",
              " 4:413              4:154          Mean   : 0.000000                \n",
              "                                   3rd Qu.: 0.568853                \n",
              "                                   Max.   : 3.475658                \n",
              " apartment.type bank.credits occupation dependents telephone foreign.worker\n",
              " 1:179          1:633        1: 22      1:845      1:596     1:963         \n",
              " 2:714          2:367        2:200      2:155      2:404     2: 37         \n",
              " 3:107                       3:630                                         \n",
              "                             4:148                                         \n",
              "                                                                           \n",
              "                                                                           "
            ]
          },
          "metadata": {
            "tags": []
          }
        },
        {
          "output_type": "display_data",
          "data": {
            "text/markdown": "\nA data.frame: 1000 × 21\n\n| credit.rating &lt;fct&gt; | account.balance &lt;fct&gt; | credit.duration.months &lt;dbl[,1]&gt; | previous.credit.payment.status &lt;fct&gt; | credit.purpose &lt;fct&gt; | credit.amount &lt;dbl[,1]&gt; | savings &lt;fct&gt; | employment.duration &lt;fct&gt; | installment.rate &lt;fct&gt; | marital.status &lt;fct&gt; | ⋯ ⋯ | residence.duration &lt;fct&gt; | current.assets &lt;fct&gt; | age &lt;dbl[,1]&gt; | other.credits &lt;fct&gt; | apartment.type &lt;fct&gt; | bank.credits &lt;fct&gt; | occupation &lt;fct&gt; | dependents &lt;fct&gt; | telephone &lt;fct&gt; | foreign.worker &lt;fct&gt; |\n|---|---|---|---|---|---|---|---|---|---|---|---|---|---|---|---|---|---|---|---|---|\n| 1 | 1 | -0.2407368 | 3 | 2 | -0.78726299 | 1 | 1 | 4 | 1 | ⋯ | 4 | 2 | -1.28093214 | 2 | 1 | 1 | 3 | 1 | 1 | 1 |\n| 1 | 1 | -0.9870788 | 3 | 4 | -0.16730058 | 1 | 2 | 2 | 3 | ⋯ | 2 | 1 |  0.04034293 | 2 | 1 | 2 | 3 | 2 | 1 | 1 |\n| 1 | 2 | -0.7382981 | 2 | 4 | -0.86094995 | 2 | 3 | 2 | 1 | ⋯ | 4 | 1 | -1.10476213 | 2 | 1 | 1 | 2 | 1 | 1 | 1 |\n| 1 | 1 | -0.7382981 | 3 | 4 | -0.40713747 | 1 | 2 | 3 | 3 | ⋯ | 2 | 1 |  0.30459795 | 2 | 1 | 2 | 2 | 2 | 1 | 2 |\n| 1 | 1 | -0.7382981 | 3 | 4 | -0.38977852 | 1 | 2 | 4 | 3 | ⋯ | 4 | 2 |  0.21651294 | 1 | 2 | 2 | 2 | 1 | 1 | 2 |\n| 1 | 1 | -0.9041519 | 3 | 4 | -0.36498002 | 1 | 1 | 1 | 3 | ⋯ | 3 | 1 |  1.09736299 | 2 | 1 | 2 | 2 | 2 | 1 | 2 |\n| 1 | 1 | -1.0700057 | 3 | 4 |  0.04490370 | 1 | 3 | 1 | 3 | ⋯ | 4 | 1 |  0.30459795 | 2 | 2 | 2 | 2 | 1 | 1 | 2 |\n| 1 | 1 | -1.2358595 | 3 | 4 | -0.67673255 | 1 | 1 | 2 | 3 | ⋯ | 4 | 1 |  0.39268295 | 2 | 2 | 1 | 2 | 2 | 1 | 2 |\n| 1 | 3 | -0.2407368 | 3 | 3 | -0.76990405 | 1 | 1 | 4 | 1 | ⋯ | 4 | 3 |  2.59480806 | 2 | 2 | 2 | 1 | 1 | 1 | 1 |\n| 1 | 2 |  0.2568246 | 2 | 3 |  0.17243883 | 3 | 1 | 1 | 1 | ⋯ | 4 | 4 | -1.10476213 | 2 | 1 | 1 | 1 | 1 | 1 | 1 |\n| 1 | 1 | -0.8212250 | 3 | 4 |  0.22451567 | 1 | 2 | 2 | 3 | ⋯ | 2 | 1 |  0.04034293 | 2 | 1 | 2 | 3 | 2 | 1 | 1 |\n| 1 | 1 |  0.7543859 | 3 | 1 |  1.03294666 | 2 | 3 | 1 | 4 | ⋯ | 4 | 3 | -1.01667712 | 2 | 1 | 2 | 3 | 1 | 1 | 1 |\n| 1 | 1 | -1.2358595 | 3 | 3 | -0.46559107 | 1 | 3 | 1 | 1 | ⋯ | 4 | 3 | -0.40008209 | 2 | 2 | 1 | 3 | 1 | 1 | 1 |\n| 1 | 2 |  2.2470700 | 3 | 4 |  1.52714527 | 2 | 1 | 2 | 3 | ⋯ | 4 | 4 | -0.40008209 | 2 | 2 | 1 | 4 | 1 | 2 | 1 |\n| 1 | 1 | -0.2407368 | 2 | 3 | -0.47303061 | 4 | 3 | 2 | 4 | ⋯ | 4 | 3 | -1.10476213 | 2 | 1 | 2 | 2 | 1 | 1 | 1 |\n| 1 | 1 | -1.2358595 | 2 | 3 | -0.22114874 | 3 | 2 | 2 | 3 | ⋯ | 3 | 1 |  0.74502297 | 2 | 1 | 1 | 3 | 2 | 1 | 1 |\n| 1 | 1 | -0.8212250 | 3 | 4 |  0.23656065 | 1 | 2 | 1 | 3 | ⋯ | 2 | 1 |  0.39268295 | 2 | 2 | 2 | 2 | 2 | 1 | 1 |\n| 1 | 2 | -0.2407368 | 2 | 3 | -0.02063518 | 3 | 1 | 1 | 4 | ⋯ | 3 | 1 | -0.92859212 | 2 | 1 | 1 | 3 | 1 | 1 | 1 |\n| 1 | 2 |  1.2519473 | 3 | 3 | -0.33097066 | 1 | 4 | 4 | 3 | ⋯ | 4 | 1 |  0.04034293 | 2 | 2 | 1 | 3 | 1 | 1 | 1 |\n| 1 | 3 | -0.8212250 | 3 | 4 |  1.40173573 | 1 | 2 | 1 | 3 | ⋯ | 4 | 2 |  0.30459795 | 2 | 2 | 2 | 2 | 1 | 1 | 1 |\n| 1 | 1 | -1.2358595 | 3 | 4 |  0.14338916 | 1 | 2 | 1 | 3 | ⋯ | 3 | 1 |  0.12842794 | 2 | 1 | 2 | 3 | 2 | 1 | 1 |\n| 1 | 2 | -0.7382981 | 3 | 4 | -0.05216470 | 1 | 1 | 1 | 3 | ⋯ | 3 | 1 |  1.18544799 | 1 | 2 | 2 | 2 | 2 | 1 | 1 |\n| 0 | 2 |  1.2519473 | 2 | 3 | -0.31432024 | 1 | 1 | 4 | 3 | ⋯ | 1 | 4 | -0.22391208 | 2 | 1 | 1 | 2 | 1 | 1 | 1 |\n| 1 | 2 | -0.7382981 | 3 | 3 | -0.65441390 | 1 | 3 | 4 | 3 | ⋯ | 3 | 2 | -0.84050711 | 2 | 2 | 1 | 3 | 1 | 1 | 1 |\n| 1 | 1 | -1.2358595 | 3 | 4 |  0.51182397 | 4 | 1 | 1 | 3 | ⋯ | 3 | 1 |  0.74502297 | 2 | 2 | 2 | 2 | 2 | 1 | 1 |\n| 1 | 2 | -0.8212250 | 3 | 3 |  0.53130850 | 1 | 3 | 2 | 3 | ⋯ | 4 | 2 |  1.36161800 | 2 | 2 | 1 | 3 | 1 | 1 | 1 |\n| 1 | 1 | -0.7382981 | 2 | 2 | -0.92790590 | 1 | 4 | 4 | 1 | ⋯ | 4 | 2 | -1.01667712 | 2 | 1 | 1 | 3 | 1 | 1 | 1 |\n| 1 | 2 | -0.9870788 | 3 | 3 | -0.75006525 | 1 | 4 | 2 | 3 | ⋯ | 4 | 1 |  0.12842794 | 2 | 2 | 2 | 2 | 1 | 1 | 1 |\n| 1 | 3 | -0.4895174 | 2 | 4 |  0.10087745 | 4 | 2 | 3 | 3 | ⋯ | 2 | 4 | -0.57625210 | 2 | 2 | 1 | 3 | 1 | 1 | 1 |\n| 1 | 3 |  1.7495086 | 3 | 1 |  0.54016510 | 1 | 4 | 4 | 3 | ⋯ | 4 | 4 |  1.80204302 | 2 | 3 | 1 | 3 | 1 | 1 | 1 |\n| ⋮ | ⋮ | ⋮ | ⋮ | ⋮ | ⋮ | ⋮ | ⋮ | ⋮ | ⋮ | ⋱ | ⋮ | ⋮ | ⋮ | ⋮ | ⋮ | ⋮ | ⋮ | ⋮ | ⋮ | ⋮ |\n| 0 | 3 |  2.247069984 | 2 | 4 |  0.55716979 | 1 | 1 | 3 | 3 | ⋯ | 2 | 3 | -0.22391208 | 2 | 1 | 1 | 4 | 1 | 2 | 1 |\n| 0 | 2 |  0.505605259 | 1 | 4 |  1.78788375 | 1 | 4 | 2 | 1 | ⋯ | 4 | 4 |  0.56885296 | 1 | 3 | 2 | 4 | 1 | 2 | 1 |\n| 0 | 3 | -0.240736767 | 2 | 3 | -0.41493128 | 1 | 2 | 4 | 3 | ⋯ | 2 | 1 |  0.12842794 | 2 | 2 | 1 | 3 | 1 | 1 | 1 |\n| 0 | 1 |  1.998289309 | 1 | 4 |  3.02710005 | 1 | 4 | 2 | 3 | ⋯ | 4 | 3 | -0.57625210 | 2 | 1 | 2 | 3 | 1 | 1 | 1 |\n| 0 | 1 | -1.235859467 | 2 | 3 | -1.00017580 | 1 | 1 | 4 | 1 | ⋯ | 4 | 2 | -1.10476213 | 2 | 2 | 1 | 3 | 1 | 1 | 1 |\n| 0 | 1 |  0.754385934 | 2 | 3 |  3.09157614 | 1 | 1 | 1 | 1 | ⋯ | 1 | 4 | -0.13582708 | 1 | 2 | 1 | 2 | 1 | 2 | 1 |\n| 0 | 2 |  2.247069984 | 1 | 4 |  5.36807813 | 1 | 2 | 1 | 1 | ⋯ | 2 | 2 | -0.31199709 | 1 | 2 | 1 | 4 | 1 | 2 | 2 |\n| 0 | 1 | -1.235859467 | 2 | 4 |  4.11823390 | 1 | 4 | 1 | 3 | ⋯ | 4 | 4 |  2.85906308 | 1 | 2 | 1 | 4 | 1 | 2 | 1 |\n| 0 | 2 | -0.738298117 | 2 | 2 | -0.18040835 | 4 | 4 | 1 | 1 | ⋯ | 2 | 2 | -0.92859212 | 2 | 2 | 1 | 3 | 1 | 2 | 1 |\n| 0 | 1 | -0.738298117 | 2 | 1 |  0.04065253 | 1 | 4 | 3 | 3 | ⋯ | 4 | 4 | -0.04774207 | 2 | 3 | 1 | 3 | 1 | 2 | 1 |\n| 0 | 2 |  0.256824584 | 2 | 3 | -0.43654140 | 1 | 1 | 1 | 4 | ⋯ | 1 | 2 | -1.19284713 | 2 | 2 | 1 | 3 | 1 | 2 | 1 |\n| 0 | 3 | -0.240736767 | 3 | 4 | -0.39048705 | 1 | 2 | 4 | 4 | ⋯ | 2 | 3 | -0.66433710 | 2 | 2 | 1 | 3 | 1 | 2 | 1 |\n| 0 | 2 |  2.247069984 | 3 | 2 |  0.64644438 | 1 | 2 | 2 | 1 | ⋯ | 3 | 3 | -0.48816710 | 2 | 2 | 1 | 4 | 1 | 2 | 1 |\n| 0 | 1 | -0.240736767 | 2 | 3 | -0.49216088 | 1 | 2 | 4 | 1 | ⋯ | 4 | 3 | -0.92859212 | 1 | 1 | 2 | 3 | 1 | 1 | 1 |\n| 0 | 1 |  2.247069984 | 2 | 3 |  1.32060922 | 1 | 3 | 1 | 4 | ⋯ | 1 | 1 | -0.13582708 | 2 | 2 | 2 | 3 | 1 | 2 | 1 |\n| 0 | 3 | -0.738298117 | 3 | 4 | -0.34691255 | 1 | 1 | 4 | 3 | ⋯ | 2 | 3 |  0.56885296 | 1 | 2 | 2 | 4 | 1 | 2 | 1 |\n| 0 | 1 | -0.572444333 | 2 | 4 |  2.02169815 | 1 | 4 | 1 | 1 | ⋯ | 4 | 2 |  0.83310797 | 2 | 2 | 1 | 4 | 1 | 2 | 2 |\n| 0 | 1 | -0.738298117 | 2 | 3 | -0.92011208 | 2 | 3 | 4 | 4 | ⋯ | 1 | 2 | -1.36901714 | 2 | 2 | 1 | 3 | 1 | 1 | 1 |\n| 0 | 1 | -0.240736767 | 2 | 4 | -0.81312428 | 1 | 1 | 1 | 1 | ⋯ | 2 | 3 | -1.10476213 | 2 | 2 | 1 | 2 | 1 | 1 | 1 |\n| 0 | 2 |  0.256824584 | 2 | 4 | -0.19599598 | 1 | 2 | 3 | 1 | ⋯ | 4 | 2 | -1.36901714 | 2 | 1 | 1 | 2 | 1 | 2 | 1 |\n| 0 | 1 | -0.240736767 | 2 | 3 | -0.89318800 | 1 | 1 | 4 | 1 | ⋯ | 1 | 1 | -0.75242211 | 2 | 2 | 1 | 1 | 1 | 1 | 1 |\n| 0 | 2 |  0.256824584 | 2 | 1 |  3.29740367 | 1 | 4 | 4 | 1 | ⋯ | 2 | 4 |  0.74502297 | 2 | 3 | 1 | 4 | 1 | 2 | 1 |\n| 0 | 1 | -0.240736767 | 2 | 1 |  1.50199251 | 4 | 4 | 1 | 3 | ⋯ | 4 | 2 |  1.36161800 | 2 | 3 | 1 | 3 | 2 | 2 | 1 |\n| 0 | 1 | -0.240736767 | 3 | 4 |  0.24612579 | 1 | 4 | 1 | 1 | ⋯ | 4 | 1 | -0.22391208 | 1 | 1 | 2 | 3 | 1 | 2 | 1 |\n| 0 | 1 | -0.738298117 | 1 | 3 |  1.03719783 | 1 | 2 | 4 | 3 | ⋯ | 2 | 2 | -0.66433710 | 2 | 1 | 2 | 3 | 1 | 2 | 1 |\n| 0 | 1 |  0.256824584 | 2 | 3 | -0.45496314 | 1 | 2 | 2 | 3 | ⋯ | 4 | 1 | -1.28093214 | 2 | 1 | 1 | 2 | 2 | 1 | 1 |\n| 0 | 1 |  0.256824584 | 2 | 4 | -0.34301564 | 1 | 4 | 4 | 3 | ⋯ | 1 | 1 |  0.83310797 | 2 | 2 | 1 | 3 | 1 | 1 | 1 |\n| 0 | 3 |  0.008043908 | 3 | 4 |  3.33318435 | 4 | 4 | 4 | 3 | ⋯ | 4 | 4 | -0.48816710 | 2 | 3 | 1 | 4 | 1 | 2 | 1 |\n| 0 | 2 | -0.738298117 | 2 | 3 |  1.13249491 | 4 | 1 | 2 | 3 | ⋯ | 1 | 4 |  1.44970300 | 2 | 2 | 1 | 4 | 1 | 2 | 1 |\n| 0 | 1 |  0.754385934 | 2 | 2 |  1.09069173 | 4 | 4 | 4 | 3 | ⋯ | 4 | 2 | -0.40008209 | 2 | 2 | 1 | 3 | 1 | 1 | 1 |\n\n",
            "text/latex": "A data.frame: 1000 × 21\n\\begin{tabular}{lllllllllllllllllllll}\n credit.rating & account.balance & credit.duration.months & previous.credit.payment.status & credit.purpose & credit.amount & savings & employment.duration & installment.rate & marital.status & ⋯ & residence.duration & current.assets & age & other.credits & apartment.type & bank.credits & occupation & dependents & telephone & foreign.worker\\\\\n <fct> & <fct> & <dbl{[},1{]}> & <fct> & <fct> & <dbl{[},1{]}> & <fct> & <fct> & <fct> & <fct> & ⋯ & <fct> & <fct> & <dbl{[},1{]}> & <fct> & <fct> & <fct> & <fct> & <fct> & <fct> & <fct>\\\\\n\\hline\n\t 1 & 1 & -0.2407368 & 3 & 2 & -0.78726299 & 1 & 1 & 4 & 1 & ⋯ & 4 & 2 & -1.28093214 & 2 & 1 & 1 & 3 & 1 & 1 & 1\\\\\n\t 1 & 1 & -0.9870788 & 3 & 4 & -0.16730058 & 1 & 2 & 2 & 3 & ⋯ & 2 & 1 &  0.04034293 & 2 & 1 & 2 & 3 & 2 & 1 & 1\\\\\n\t 1 & 2 & -0.7382981 & 2 & 4 & -0.86094995 & 2 & 3 & 2 & 1 & ⋯ & 4 & 1 & -1.10476213 & 2 & 1 & 1 & 2 & 1 & 1 & 1\\\\\n\t 1 & 1 & -0.7382981 & 3 & 4 & -0.40713747 & 1 & 2 & 3 & 3 & ⋯ & 2 & 1 &  0.30459795 & 2 & 1 & 2 & 2 & 2 & 1 & 2\\\\\n\t 1 & 1 & -0.7382981 & 3 & 4 & -0.38977852 & 1 & 2 & 4 & 3 & ⋯ & 4 & 2 &  0.21651294 & 1 & 2 & 2 & 2 & 1 & 1 & 2\\\\\n\t 1 & 1 & -0.9041519 & 3 & 4 & -0.36498002 & 1 & 1 & 1 & 3 & ⋯ & 3 & 1 &  1.09736299 & 2 & 1 & 2 & 2 & 2 & 1 & 2\\\\\n\t 1 & 1 & -1.0700057 & 3 & 4 &  0.04490370 & 1 & 3 & 1 & 3 & ⋯ & 4 & 1 &  0.30459795 & 2 & 2 & 2 & 2 & 1 & 1 & 2\\\\\n\t 1 & 1 & -1.2358595 & 3 & 4 & -0.67673255 & 1 & 1 & 2 & 3 & ⋯ & 4 & 1 &  0.39268295 & 2 & 2 & 1 & 2 & 2 & 1 & 2\\\\\n\t 1 & 3 & -0.2407368 & 3 & 3 & -0.76990405 & 1 & 1 & 4 & 1 & ⋯ & 4 & 3 &  2.59480806 & 2 & 2 & 2 & 1 & 1 & 1 & 1\\\\\n\t 1 & 2 &  0.2568246 & 2 & 3 &  0.17243883 & 3 & 1 & 1 & 1 & ⋯ & 4 & 4 & -1.10476213 & 2 & 1 & 1 & 1 & 1 & 1 & 1\\\\\n\t 1 & 1 & -0.8212250 & 3 & 4 &  0.22451567 & 1 & 2 & 2 & 3 & ⋯ & 2 & 1 &  0.04034293 & 2 & 1 & 2 & 3 & 2 & 1 & 1\\\\\n\t 1 & 1 &  0.7543859 & 3 & 1 &  1.03294666 & 2 & 3 & 1 & 4 & ⋯ & 4 & 3 & -1.01667712 & 2 & 1 & 2 & 3 & 1 & 1 & 1\\\\\n\t 1 & 1 & -1.2358595 & 3 & 3 & -0.46559107 & 1 & 3 & 1 & 1 & ⋯ & 4 & 3 & -0.40008209 & 2 & 2 & 1 & 3 & 1 & 1 & 1\\\\\n\t 1 & 2 &  2.2470700 & 3 & 4 &  1.52714527 & 2 & 1 & 2 & 3 & ⋯ & 4 & 4 & -0.40008209 & 2 & 2 & 1 & 4 & 1 & 2 & 1\\\\\n\t 1 & 1 & -0.2407368 & 2 & 3 & -0.47303061 & 4 & 3 & 2 & 4 & ⋯ & 4 & 3 & -1.10476213 & 2 & 1 & 2 & 2 & 1 & 1 & 1\\\\\n\t 1 & 1 & -1.2358595 & 2 & 3 & -0.22114874 & 3 & 2 & 2 & 3 & ⋯ & 3 & 1 &  0.74502297 & 2 & 1 & 1 & 3 & 2 & 1 & 1\\\\\n\t 1 & 1 & -0.8212250 & 3 & 4 &  0.23656065 & 1 & 2 & 1 & 3 & ⋯ & 2 & 1 &  0.39268295 & 2 & 2 & 2 & 2 & 2 & 1 & 1\\\\\n\t 1 & 2 & -0.2407368 & 2 & 3 & -0.02063518 & 3 & 1 & 1 & 4 & ⋯ & 3 & 1 & -0.92859212 & 2 & 1 & 1 & 3 & 1 & 1 & 1\\\\\n\t 1 & 2 &  1.2519473 & 3 & 3 & -0.33097066 & 1 & 4 & 4 & 3 & ⋯ & 4 & 1 &  0.04034293 & 2 & 2 & 1 & 3 & 1 & 1 & 1\\\\\n\t 1 & 3 & -0.8212250 & 3 & 4 &  1.40173573 & 1 & 2 & 1 & 3 & ⋯ & 4 & 2 &  0.30459795 & 2 & 2 & 2 & 2 & 1 & 1 & 1\\\\\n\t 1 & 1 & -1.2358595 & 3 & 4 &  0.14338916 & 1 & 2 & 1 & 3 & ⋯ & 3 & 1 &  0.12842794 & 2 & 1 & 2 & 3 & 2 & 1 & 1\\\\\n\t 1 & 2 & -0.7382981 & 3 & 4 & -0.05216470 & 1 & 1 & 1 & 3 & ⋯ & 3 & 1 &  1.18544799 & 1 & 2 & 2 & 2 & 2 & 1 & 1\\\\\n\t 0 & 2 &  1.2519473 & 2 & 3 & -0.31432024 & 1 & 1 & 4 & 3 & ⋯ & 1 & 4 & -0.22391208 & 2 & 1 & 1 & 2 & 1 & 1 & 1\\\\\n\t 1 & 2 & -0.7382981 & 3 & 3 & -0.65441390 & 1 & 3 & 4 & 3 & ⋯ & 3 & 2 & -0.84050711 & 2 & 2 & 1 & 3 & 1 & 1 & 1\\\\\n\t 1 & 1 & -1.2358595 & 3 & 4 &  0.51182397 & 4 & 1 & 1 & 3 & ⋯ & 3 & 1 &  0.74502297 & 2 & 2 & 2 & 2 & 2 & 1 & 1\\\\\n\t 1 & 2 & -0.8212250 & 3 & 3 &  0.53130850 & 1 & 3 & 2 & 3 & ⋯ & 4 & 2 &  1.36161800 & 2 & 2 & 1 & 3 & 1 & 1 & 1\\\\\n\t 1 & 1 & -0.7382981 & 2 & 2 & -0.92790590 & 1 & 4 & 4 & 1 & ⋯ & 4 & 2 & -1.01667712 & 2 & 1 & 1 & 3 & 1 & 1 & 1\\\\\n\t 1 & 2 & -0.9870788 & 3 & 3 & -0.75006525 & 1 & 4 & 2 & 3 & ⋯ & 4 & 1 &  0.12842794 & 2 & 2 & 2 & 2 & 1 & 1 & 1\\\\\n\t 1 & 3 & -0.4895174 & 2 & 4 &  0.10087745 & 4 & 2 & 3 & 3 & ⋯ & 2 & 4 & -0.57625210 & 2 & 2 & 1 & 3 & 1 & 1 & 1\\\\\n\t 1 & 3 &  1.7495086 & 3 & 1 &  0.54016510 & 1 & 4 & 4 & 3 & ⋯ & 4 & 4 &  1.80204302 & 2 & 3 & 1 & 3 & 1 & 1 & 1\\\\\n\t ⋮ & ⋮ & ⋮ & ⋮ & ⋮ & ⋮ & ⋮ & ⋮ & ⋮ & ⋮ & ⋱ & ⋮ & ⋮ & ⋮ & ⋮ & ⋮ & ⋮ & ⋮ & ⋮ & ⋮ & ⋮\\\\\n\t 0 & 3 &  2.247069984 & 2 & 4 &  0.55716979 & 1 & 1 & 3 & 3 & ⋯ & 2 & 3 & -0.22391208 & 2 & 1 & 1 & 4 & 1 & 2 & 1\\\\\n\t 0 & 2 &  0.505605259 & 1 & 4 &  1.78788375 & 1 & 4 & 2 & 1 & ⋯ & 4 & 4 &  0.56885296 & 1 & 3 & 2 & 4 & 1 & 2 & 1\\\\\n\t 0 & 3 & -0.240736767 & 2 & 3 & -0.41493128 & 1 & 2 & 4 & 3 & ⋯ & 2 & 1 &  0.12842794 & 2 & 2 & 1 & 3 & 1 & 1 & 1\\\\\n\t 0 & 1 &  1.998289309 & 1 & 4 &  3.02710005 & 1 & 4 & 2 & 3 & ⋯ & 4 & 3 & -0.57625210 & 2 & 1 & 2 & 3 & 1 & 1 & 1\\\\\n\t 0 & 1 & -1.235859467 & 2 & 3 & -1.00017580 & 1 & 1 & 4 & 1 & ⋯ & 4 & 2 & -1.10476213 & 2 & 2 & 1 & 3 & 1 & 1 & 1\\\\\n\t 0 & 1 &  0.754385934 & 2 & 3 &  3.09157614 & 1 & 1 & 1 & 1 & ⋯ & 1 & 4 & -0.13582708 & 1 & 2 & 1 & 2 & 1 & 2 & 1\\\\\n\t 0 & 2 &  2.247069984 & 1 & 4 &  5.36807813 & 1 & 2 & 1 & 1 & ⋯ & 2 & 2 & -0.31199709 & 1 & 2 & 1 & 4 & 1 & 2 & 2\\\\\n\t 0 & 1 & -1.235859467 & 2 & 4 &  4.11823390 & 1 & 4 & 1 & 3 & ⋯ & 4 & 4 &  2.85906308 & 1 & 2 & 1 & 4 & 1 & 2 & 1\\\\\n\t 0 & 2 & -0.738298117 & 2 & 2 & -0.18040835 & 4 & 4 & 1 & 1 & ⋯ & 2 & 2 & -0.92859212 & 2 & 2 & 1 & 3 & 1 & 2 & 1\\\\\n\t 0 & 1 & -0.738298117 & 2 & 1 &  0.04065253 & 1 & 4 & 3 & 3 & ⋯ & 4 & 4 & -0.04774207 & 2 & 3 & 1 & 3 & 1 & 2 & 1\\\\\n\t 0 & 2 &  0.256824584 & 2 & 3 & -0.43654140 & 1 & 1 & 1 & 4 & ⋯ & 1 & 2 & -1.19284713 & 2 & 2 & 1 & 3 & 1 & 2 & 1\\\\\n\t 0 & 3 & -0.240736767 & 3 & 4 & -0.39048705 & 1 & 2 & 4 & 4 & ⋯ & 2 & 3 & -0.66433710 & 2 & 2 & 1 & 3 & 1 & 2 & 1\\\\\n\t 0 & 2 &  2.247069984 & 3 & 2 &  0.64644438 & 1 & 2 & 2 & 1 & ⋯ & 3 & 3 & -0.48816710 & 2 & 2 & 1 & 4 & 1 & 2 & 1\\\\\n\t 0 & 1 & -0.240736767 & 2 & 3 & -0.49216088 & 1 & 2 & 4 & 1 & ⋯ & 4 & 3 & -0.92859212 & 1 & 1 & 2 & 3 & 1 & 1 & 1\\\\\n\t 0 & 1 &  2.247069984 & 2 & 3 &  1.32060922 & 1 & 3 & 1 & 4 & ⋯ & 1 & 1 & -0.13582708 & 2 & 2 & 2 & 3 & 1 & 2 & 1\\\\\n\t 0 & 3 & -0.738298117 & 3 & 4 & -0.34691255 & 1 & 1 & 4 & 3 & ⋯ & 2 & 3 &  0.56885296 & 1 & 2 & 2 & 4 & 1 & 2 & 1\\\\\n\t 0 & 1 & -0.572444333 & 2 & 4 &  2.02169815 & 1 & 4 & 1 & 1 & ⋯ & 4 & 2 &  0.83310797 & 2 & 2 & 1 & 4 & 1 & 2 & 2\\\\\n\t 0 & 1 & -0.738298117 & 2 & 3 & -0.92011208 & 2 & 3 & 4 & 4 & ⋯ & 1 & 2 & -1.36901714 & 2 & 2 & 1 & 3 & 1 & 1 & 1\\\\\n\t 0 & 1 & -0.240736767 & 2 & 4 & -0.81312428 & 1 & 1 & 1 & 1 & ⋯ & 2 & 3 & -1.10476213 & 2 & 2 & 1 & 2 & 1 & 1 & 1\\\\\n\t 0 & 2 &  0.256824584 & 2 & 4 & -0.19599598 & 1 & 2 & 3 & 1 & ⋯ & 4 & 2 & -1.36901714 & 2 & 1 & 1 & 2 & 1 & 2 & 1\\\\\n\t 0 & 1 & -0.240736767 & 2 & 3 & -0.89318800 & 1 & 1 & 4 & 1 & ⋯ & 1 & 1 & -0.75242211 & 2 & 2 & 1 & 1 & 1 & 1 & 1\\\\\n\t 0 & 2 &  0.256824584 & 2 & 1 &  3.29740367 & 1 & 4 & 4 & 1 & ⋯ & 2 & 4 &  0.74502297 & 2 & 3 & 1 & 4 & 1 & 2 & 1\\\\\n\t 0 & 1 & -0.240736767 & 2 & 1 &  1.50199251 & 4 & 4 & 1 & 3 & ⋯ & 4 & 2 &  1.36161800 & 2 & 3 & 1 & 3 & 2 & 2 & 1\\\\\n\t 0 & 1 & -0.240736767 & 3 & 4 &  0.24612579 & 1 & 4 & 1 & 1 & ⋯ & 4 & 1 & -0.22391208 & 1 & 1 & 2 & 3 & 1 & 2 & 1\\\\\n\t 0 & 1 & -0.738298117 & 1 & 3 &  1.03719783 & 1 & 2 & 4 & 3 & ⋯ & 2 & 2 & -0.66433710 & 2 & 1 & 2 & 3 & 1 & 2 & 1\\\\\n\t 0 & 1 &  0.256824584 & 2 & 3 & -0.45496314 & 1 & 2 & 2 & 3 & ⋯ & 4 & 1 & -1.28093214 & 2 & 1 & 1 & 2 & 2 & 1 & 1\\\\\n\t 0 & 1 &  0.256824584 & 2 & 4 & -0.34301564 & 1 & 4 & 4 & 3 & ⋯ & 1 & 1 &  0.83310797 & 2 & 2 & 1 & 3 & 1 & 1 & 1\\\\\n\t 0 & 3 &  0.008043908 & 3 & 4 &  3.33318435 & 4 & 4 & 4 & 3 & ⋯ & 4 & 4 & -0.48816710 & 2 & 3 & 1 & 4 & 1 & 2 & 1\\\\\n\t 0 & 2 & -0.738298117 & 2 & 3 &  1.13249491 & 4 & 1 & 2 & 3 & ⋯ & 1 & 4 &  1.44970300 & 2 & 2 & 1 & 4 & 1 & 2 & 1\\\\\n\t 0 & 1 &  0.754385934 & 2 & 2 &  1.09069173 & 4 & 4 & 4 & 3 & ⋯ & 4 & 2 & -0.40008209 & 2 & 2 & 1 & 3 & 1 & 1 & 1\\\\\n\\end{tabular}\n",
            "text/html": [
              "<table class=\"dataframe\">\n",
              "<caption>A data.frame: 1000 × 21</caption>\n",
              "<thead>\n",
              "\t<tr><th scope=col>credit.rating</th><th scope=col>account.balance</th><th scope=col>credit.duration.months</th><th scope=col>previous.credit.payment.status</th><th scope=col>credit.purpose</th><th scope=col>credit.amount</th><th scope=col>savings</th><th scope=col>employment.duration</th><th scope=col>installment.rate</th><th scope=col>marital.status</th><th scope=col>⋯</th><th scope=col>residence.duration</th><th scope=col>current.assets</th><th scope=col>age</th><th scope=col>other.credits</th><th scope=col>apartment.type</th><th scope=col>bank.credits</th><th scope=col>occupation</th><th scope=col>dependents</th><th scope=col>telephone</th><th scope=col>foreign.worker</th></tr>\n",
              "\t<tr><th scope=col>&lt;fct&gt;</th><th scope=col>&lt;fct&gt;</th><th scope=col>&lt;dbl[,1]&gt;</th><th scope=col>&lt;fct&gt;</th><th scope=col>&lt;fct&gt;</th><th scope=col>&lt;dbl[,1]&gt;</th><th scope=col>&lt;fct&gt;</th><th scope=col>&lt;fct&gt;</th><th scope=col>&lt;fct&gt;</th><th scope=col>&lt;fct&gt;</th><th scope=col>⋯</th><th scope=col>&lt;fct&gt;</th><th scope=col>&lt;fct&gt;</th><th scope=col>&lt;dbl[,1]&gt;</th><th scope=col>&lt;fct&gt;</th><th scope=col>&lt;fct&gt;</th><th scope=col>&lt;fct&gt;</th><th scope=col>&lt;fct&gt;</th><th scope=col>&lt;fct&gt;</th><th scope=col>&lt;fct&gt;</th><th scope=col>&lt;fct&gt;</th></tr>\n",
              "</thead>\n",
              "<tbody>\n",
              "\t<tr><td>1</td><td>1</td><td>-0.2407368</td><td>3</td><td>2</td><td>-0.78726299</td><td>1</td><td>1</td><td>4</td><td>1</td><td>⋯</td><td>4</td><td>2</td><td>-1.28093214</td><td>2</td><td>1</td><td>1</td><td>3</td><td>1</td><td>1</td><td>1</td></tr>\n",
              "\t<tr><td>1</td><td>1</td><td>-0.9870788</td><td>3</td><td>4</td><td>-0.16730058</td><td>1</td><td>2</td><td>2</td><td>3</td><td>⋯</td><td>2</td><td>1</td><td> 0.04034293</td><td>2</td><td>1</td><td>2</td><td>3</td><td>2</td><td>1</td><td>1</td></tr>\n",
              "\t<tr><td>1</td><td>2</td><td>-0.7382981</td><td>2</td><td>4</td><td>-0.86094995</td><td>2</td><td>3</td><td>2</td><td>1</td><td>⋯</td><td>4</td><td>1</td><td>-1.10476213</td><td>2</td><td>1</td><td>1</td><td>2</td><td>1</td><td>1</td><td>1</td></tr>\n",
              "\t<tr><td>1</td><td>1</td><td>-0.7382981</td><td>3</td><td>4</td><td>-0.40713747</td><td>1</td><td>2</td><td>3</td><td>3</td><td>⋯</td><td>2</td><td>1</td><td> 0.30459795</td><td>2</td><td>1</td><td>2</td><td>2</td><td>2</td><td>1</td><td>2</td></tr>\n",
              "\t<tr><td>1</td><td>1</td><td>-0.7382981</td><td>3</td><td>4</td><td>-0.38977852</td><td>1</td><td>2</td><td>4</td><td>3</td><td>⋯</td><td>4</td><td>2</td><td> 0.21651294</td><td>1</td><td>2</td><td>2</td><td>2</td><td>1</td><td>1</td><td>2</td></tr>\n",
              "\t<tr><td>1</td><td>1</td><td>-0.9041519</td><td>3</td><td>4</td><td>-0.36498002</td><td>1</td><td>1</td><td>1</td><td>3</td><td>⋯</td><td>3</td><td>1</td><td> 1.09736299</td><td>2</td><td>1</td><td>2</td><td>2</td><td>2</td><td>1</td><td>2</td></tr>\n",
              "\t<tr><td>1</td><td>1</td><td>-1.0700057</td><td>3</td><td>4</td><td> 0.04490370</td><td>1</td><td>3</td><td>1</td><td>3</td><td>⋯</td><td>4</td><td>1</td><td> 0.30459795</td><td>2</td><td>2</td><td>2</td><td>2</td><td>1</td><td>1</td><td>2</td></tr>\n",
              "\t<tr><td>1</td><td>1</td><td>-1.2358595</td><td>3</td><td>4</td><td>-0.67673255</td><td>1</td><td>1</td><td>2</td><td>3</td><td>⋯</td><td>4</td><td>1</td><td> 0.39268295</td><td>2</td><td>2</td><td>1</td><td>2</td><td>2</td><td>1</td><td>2</td></tr>\n",
              "\t<tr><td>1</td><td>3</td><td>-0.2407368</td><td>3</td><td>3</td><td>-0.76990405</td><td>1</td><td>1</td><td>4</td><td>1</td><td>⋯</td><td>4</td><td>3</td><td> 2.59480806</td><td>2</td><td>2</td><td>2</td><td>1</td><td>1</td><td>1</td><td>1</td></tr>\n",
              "\t<tr><td>1</td><td>2</td><td> 0.2568246</td><td>2</td><td>3</td><td> 0.17243883</td><td>3</td><td>1</td><td>1</td><td>1</td><td>⋯</td><td>4</td><td>4</td><td>-1.10476213</td><td>2</td><td>1</td><td>1</td><td>1</td><td>1</td><td>1</td><td>1</td></tr>\n",
              "\t<tr><td>1</td><td>1</td><td>-0.8212250</td><td>3</td><td>4</td><td> 0.22451567</td><td>1</td><td>2</td><td>2</td><td>3</td><td>⋯</td><td>2</td><td>1</td><td> 0.04034293</td><td>2</td><td>1</td><td>2</td><td>3</td><td>2</td><td>1</td><td>1</td></tr>\n",
              "\t<tr><td>1</td><td>1</td><td> 0.7543859</td><td>3</td><td>1</td><td> 1.03294666</td><td>2</td><td>3</td><td>1</td><td>4</td><td>⋯</td><td>4</td><td>3</td><td>-1.01667712</td><td>2</td><td>1</td><td>2</td><td>3</td><td>1</td><td>1</td><td>1</td></tr>\n",
              "\t<tr><td>1</td><td>1</td><td>-1.2358595</td><td>3</td><td>3</td><td>-0.46559107</td><td>1</td><td>3</td><td>1</td><td>1</td><td>⋯</td><td>4</td><td>3</td><td>-0.40008209</td><td>2</td><td>2</td><td>1</td><td>3</td><td>1</td><td>1</td><td>1</td></tr>\n",
              "\t<tr><td>1</td><td>2</td><td> 2.2470700</td><td>3</td><td>4</td><td> 1.52714527</td><td>2</td><td>1</td><td>2</td><td>3</td><td>⋯</td><td>4</td><td>4</td><td>-0.40008209</td><td>2</td><td>2</td><td>1</td><td>4</td><td>1</td><td>2</td><td>1</td></tr>\n",
              "\t<tr><td>1</td><td>1</td><td>-0.2407368</td><td>2</td><td>3</td><td>-0.47303061</td><td>4</td><td>3</td><td>2</td><td>4</td><td>⋯</td><td>4</td><td>3</td><td>-1.10476213</td><td>2</td><td>1</td><td>2</td><td>2</td><td>1</td><td>1</td><td>1</td></tr>\n",
              "\t<tr><td>1</td><td>1</td><td>-1.2358595</td><td>2</td><td>3</td><td>-0.22114874</td><td>3</td><td>2</td><td>2</td><td>3</td><td>⋯</td><td>3</td><td>1</td><td> 0.74502297</td><td>2</td><td>1</td><td>1</td><td>3</td><td>2</td><td>1</td><td>1</td></tr>\n",
              "\t<tr><td>1</td><td>1</td><td>-0.8212250</td><td>3</td><td>4</td><td> 0.23656065</td><td>1</td><td>2</td><td>1</td><td>3</td><td>⋯</td><td>2</td><td>1</td><td> 0.39268295</td><td>2</td><td>2</td><td>2</td><td>2</td><td>2</td><td>1</td><td>1</td></tr>\n",
              "\t<tr><td>1</td><td>2</td><td>-0.2407368</td><td>2</td><td>3</td><td>-0.02063518</td><td>3</td><td>1</td><td>1</td><td>4</td><td>⋯</td><td>3</td><td>1</td><td>-0.92859212</td><td>2</td><td>1</td><td>1</td><td>3</td><td>1</td><td>1</td><td>1</td></tr>\n",
              "\t<tr><td>1</td><td>2</td><td> 1.2519473</td><td>3</td><td>3</td><td>-0.33097066</td><td>1</td><td>4</td><td>4</td><td>3</td><td>⋯</td><td>4</td><td>1</td><td> 0.04034293</td><td>2</td><td>2</td><td>1</td><td>3</td><td>1</td><td>1</td><td>1</td></tr>\n",
              "\t<tr><td>1</td><td>3</td><td>-0.8212250</td><td>3</td><td>4</td><td> 1.40173573</td><td>1</td><td>2</td><td>1</td><td>3</td><td>⋯</td><td>4</td><td>2</td><td> 0.30459795</td><td>2</td><td>2</td><td>2</td><td>2</td><td>1</td><td>1</td><td>1</td></tr>\n",
              "\t<tr><td>1</td><td>1</td><td>-1.2358595</td><td>3</td><td>4</td><td> 0.14338916</td><td>1</td><td>2</td><td>1</td><td>3</td><td>⋯</td><td>3</td><td>1</td><td> 0.12842794</td><td>2</td><td>1</td><td>2</td><td>3</td><td>2</td><td>1</td><td>1</td></tr>\n",
              "\t<tr><td>1</td><td>2</td><td>-0.7382981</td><td>3</td><td>4</td><td>-0.05216470</td><td>1</td><td>1</td><td>1</td><td>3</td><td>⋯</td><td>3</td><td>1</td><td> 1.18544799</td><td>1</td><td>2</td><td>2</td><td>2</td><td>2</td><td>1</td><td>1</td></tr>\n",
              "\t<tr><td>0</td><td>2</td><td> 1.2519473</td><td>2</td><td>3</td><td>-0.31432024</td><td>1</td><td>1</td><td>4</td><td>3</td><td>⋯</td><td>1</td><td>4</td><td>-0.22391208</td><td>2</td><td>1</td><td>1</td><td>2</td><td>1</td><td>1</td><td>1</td></tr>\n",
              "\t<tr><td>1</td><td>2</td><td>-0.7382981</td><td>3</td><td>3</td><td>-0.65441390</td><td>1</td><td>3</td><td>4</td><td>3</td><td>⋯</td><td>3</td><td>2</td><td>-0.84050711</td><td>2</td><td>2</td><td>1</td><td>3</td><td>1</td><td>1</td><td>1</td></tr>\n",
              "\t<tr><td>1</td><td>1</td><td>-1.2358595</td><td>3</td><td>4</td><td> 0.51182397</td><td>4</td><td>1</td><td>1</td><td>3</td><td>⋯</td><td>3</td><td>1</td><td> 0.74502297</td><td>2</td><td>2</td><td>2</td><td>2</td><td>2</td><td>1</td><td>1</td></tr>\n",
              "\t<tr><td>1</td><td>2</td><td>-0.8212250</td><td>3</td><td>3</td><td> 0.53130850</td><td>1</td><td>3</td><td>2</td><td>3</td><td>⋯</td><td>4</td><td>2</td><td> 1.36161800</td><td>2</td><td>2</td><td>1</td><td>3</td><td>1</td><td>1</td><td>1</td></tr>\n",
              "\t<tr><td>1</td><td>1</td><td>-0.7382981</td><td>2</td><td>2</td><td>-0.92790590</td><td>1</td><td>4</td><td>4</td><td>1</td><td>⋯</td><td>4</td><td>2</td><td>-1.01667712</td><td>2</td><td>1</td><td>1</td><td>3</td><td>1</td><td>1</td><td>1</td></tr>\n",
              "\t<tr><td>1</td><td>2</td><td>-0.9870788</td><td>3</td><td>3</td><td>-0.75006525</td><td>1</td><td>4</td><td>2</td><td>3</td><td>⋯</td><td>4</td><td>1</td><td> 0.12842794</td><td>2</td><td>2</td><td>2</td><td>2</td><td>1</td><td>1</td><td>1</td></tr>\n",
              "\t<tr><td>1</td><td>3</td><td>-0.4895174</td><td>2</td><td>4</td><td> 0.10087745</td><td>4</td><td>2</td><td>3</td><td>3</td><td>⋯</td><td>2</td><td>4</td><td>-0.57625210</td><td>2</td><td>2</td><td>1</td><td>3</td><td>1</td><td>1</td><td>1</td></tr>\n",
              "\t<tr><td>1</td><td>3</td><td> 1.7495086</td><td>3</td><td>1</td><td> 0.54016510</td><td>1</td><td>4</td><td>4</td><td>3</td><td>⋯</td><td>4</td><td>4</td><td> 1.80204302</td><td>2</td><td>3</td><td>1</td><td>3</td><td>1</td><td>1</td><td>1</td></tr>\n",
              "\t<tr><td>⋮</td><td>⋮</td><td>⋮</td><td>⋮</td><td>⋮</td><td>⋮</td><td>⋮</td><td>⋮</td><td>⋮</td><td>⋮</td><td>⋱</td><td>⋮</td><td>⋮</td><td>⋮</td><td>⋮</td><td>⋮</td><td>⋮</td><td>⋮</td><td>⋮</td><td>⋮</td><td>⋮</td></tr>\n",
              "\t<tr><td>0</td><td>3</td><td> 2.247069984</td><td>2</td><td>4</td><td> 0.55716979</td><td>1</td><td>1</td><td>3</td><td>3</td><td>⋯</td><td>2</td><td>3</td><td>-0.22391208</td><td>2</td><td>1</td><td>1</td><td>4</td><td>1</td><td>2</td><td>1</td></tr>\n",
              "\t<tr><td>0</td><td>2</td><td> 0.505605259</td><td>1</td><td>4</td><td> 1.78788375</td><td>1</td><td>4</td><td>2</td><td>1</td><td>⋯</td><td>4</td><td>4</td><td> 0.56885296</td><td>1</td><td>3</td><td>2</td><td>4</td><td>1</td><td>2</td><td>1</td></tr>\n",
              "\t<tr><td>0</td><td>3</td><td>-0.240736767</td><td>2</td><td>3</td><td>-0.41493128</td><td>1</td><td>2</td><td>4</td><td>3</td><td>⋯</td><td>2</td><td>1</td><td> 0.12842794</td><td>2</td><td>2</td><td>1</td><td>3</td><td>1</td><td>1</td><td>1</td></tr>\n",
              "\t<tr><td>0</td><td>1</td><td> 1.998289309</td><td>1</td><td>4</td><td> 3.02710005</td><td>1</td><td>4</td><td>2</td><td>3</td><td>⋯</td><td>4</td><td>3</td><td>-0.57625210</td><td>2</td><td>1</td><td>2</td><td>3</td><td>1</td><td>1</td><td>1</td></tr>\n",
              "\t<tr><td>0</td><td>1</td><td>-1.235859467</td><td>2</td><td>3</td><td>-1.00017580</td><td>1</td><td>1</td><td>4</td><td>1</td><td>⋯</td><td>4</td><td>2</td><td>-1.10476213</td><td>2</td><td>2</td><td>1</td><td>3</td><td>1</td><td>1</td><td>1</td></tr>\n",
              "\t<tr><td>0</td><td>1</td><td> 0.754385934</td><td>2</td><td>3</td><td> 3.09157614</td><td>1</td><td>1</td><td>1</td><td>1</td><td>⋯</td><td>1</td><td>4</td><td>-0.13582708</td><td>1</td><td>2</td><td>1</td><td>2</td><td>1</td><td>2</td><td>1</td></tr>\n",
              "\t<tr><td>0</td><td>2</td><td> 2.247069984</td><td>1</td><td>4</td><td> 5.36807813</td><td>1</td><td>2</td><td>1</td><td>1</td><td>⋯</td><td>2</td><td>2</td><td>-0.31199709</td><td>1</td><td>2</td><td>1</td><td>4</td><td>1</td><td>2</td><td>2</td></tr>\n",
              "\t<tr><td>0</td><td>1</td><td>-1.235859467</td><td>2</td><td>4</td><td> 4.11823390</td><td>1</td><td>4</td><td>1</td><td>3</td><td>⋯</td><td>4</td><td>4</td><td> 2.85906308</td><td>1</td><td>2</td><td>1</td><td>4</td><td>1</td><td>2</td><td>1</td></tr>\n",
              "\t<tr><td>0</td><td>2</td><td>-0.738298117</td><td>2</td><td>2</td><td>-0.18040835</td><td>4</td><td>4</td><td>1</td><td>1</td><td>⋯</td><td>2</td><td>2</td><td>-0.92859212</td><td>2</td><td>2</td><td>1</td><td>3</td><td>1</td><td>2</td><td>1</td></tr>\n",
              "\t<tr><td>0</td><td>1</td><td>-0.738298117</td><td>2</td><td>1</td><td> 0.04065253</td><td>1</td><td>4</td><td>3</td><td>3</td><td>⋯</td><td>4</td><td>4</td><td>-0.04774207</td><td>2</td><td>3</td><td>1</td><td>3</td><td>1</td><td>2</td><td>1</td></tr>\n",
              "\t<tr><td>0</td><td>2</td><td> 0.256824584</td><td>2</td><td>3</td><td>-0.43654140</td><td>1</td><td>1</td><td>1</td><td>4</td><td>⋯</td><td>1</td><td>2</td><td>-1.19284713</td><td>2</td><td>2</td><td>1</td><td>3</td><td>1</td><td>2</td><td>1</td></tr>\n",
              "\t<tr><td>0</td><td>3</td><td>-0.240736767</td><td>3</td><td>4</td><td>-0.39048705</td><td>1</td><td>2</td><td>4</td><td>4</td><td>⋯</td><td>2</td><td>3</td><td>-0.66433710</td><td>2</td><td>2</td><td>1</td><td>3</td><td>1</td><td>2</td><td>1</td></tr>\n",
              "\t<tr><td>0</td><td>2</td><td> 2.247069984</td><td>3</td><td>2</td><td> 0.64644438</td><td>1</td><td>2</td><td>2</td><td>1</td><td>⋯</td><td>3</td><td>3</td><td>-0.48816710</td><td>2</td><td>2</td><td>1</td><td>4</td><td>1</td><td>2</td><td>1</td></tr>\n",
              "\t<tr><td>0</td><td>1</td><td>-0.240736767</td><td>2</td><td>3</td><td>-0.49216088</td><td>1</td><td>2</td><td>4</td><td>1</td><td>⋯</td><td>4</td><td>3</td><td>-0.92859212</td><td>1</td><td>1</td><td>2</td><td>3</td><td>1</td><td>1</td><td>1</td></tr>\n",
              "\t<tr><td>0</td><td>1</td><td> 2.247069984</td><td>2</td><td>3</td><td> 1.32060922</td><td>1</td><td>3</td><td>1</td><td>4</td><td>⋯</td><td>1</td><td>1</td><td>-0.13582708</td><td>2</td><td>2</td><td>2</td><td>3</td><td>1</td><td>2</td><td>1</td></tr>\n",
              "\t<tr><td>0</td><td>3</td><td>-0.738298117</td><td>3</td><td>4</td><td>-0.34691255</td><td>1</td><td>1</td><td>4</td><td>3</td><td>⋯</td><td>2</td><td>3</td><td> 0.56885296</td><td>1</td><td>2</td><td>2</td><td>4</td><td>1</td><td>2</td><td>1</td></tr>\n",
              "\t<tr><td>0</td><td>1</td><td>-0.572444333</td><td>2</td><td>4</td><td> 2.02169815</td><td>1</td><td>4</td><td>1</td><td>1</td><td>⋯</td><td>4</td><td>2</td><td> 0.83310797</td><td>2</td><td>2</td><td>1</td><td>4</td><td>1</td><td>2</td><td>2</td></tr>\n",
              "\t<tr><td>0</td><td>1</td><td>-0.738298117</td><td>2</td><td>3</td><td>-0.92011208</td><td>2</td><td>3</td><td>4</td><td>4</td><td>⋯</td><td>1</td><td>2</td><td>-1.36901714</td><td>2</td><td>2</td><td>1</td><td>3</td><td>1</td><td>1</td><td>1</td></tr>\n",
              "\t<tr><td>0</td><td>1</td><td>-0.240736767</td><td>2</td><td>4</td><td>-0.81312428</td><td>1</td><td>1</td><td>1</td><td>1</td><td>⋯</td><td>2</td><td>3</td><td>-1.10476213</td><td>2</td><td>2</td><td>1</td><td>2</td><td>1</td><td>1</td><td>1</td></tr>\n",
              "\t<tr><td>0</td><td>2</td><td> 0.256824584</td><td>2</td><td>4</td><td>-0.19599598</td><td>1</td><td>2</td><td>3</td><td>1</td><td>⋯</td><td>4</td><td>2</td><td>-1.36901714</td><td>2</td><td>1</td><td>1</td><td>2</td><td>1</td><td>2</td><td>1</td></tr>\n",
              "\t<tr><td>0</td><td>1</td><td>-0.240736767</td><td>2</td><td>3</td><td>-0.89318800</td><td>1</td><td>1</td><td>4</td><td>1</td><td>⋯</td><td>1</td><td>1</td><td>-0.75242211</td><td>2</td><td>2</td><td>1</td><td>1</td><td>1</td><td>1</td><td>1</td></tr>\n",
              "\t<tr><td>0</td><td>2</td><td> 0.256824584</td><td>2</td><td>1</td><td> 3.29740367</td><td>1</td><td>4</td><td>4</td><td>1</td><td>⋯</td><td>2</td><td>4</td><td> 0.74502297</td><td>2</td><td>3</td><td>1</td><td>4</td><td>1</td><td>2</td><td>1</td></tr>\n",
              "\t<tr><td>0</td><td>1</td><td>-0.240736767</td><td>2</td><td>1</td><td> 1.50199251</td><td>4</td><td>4</td><td>1</td><td>3</td><td>⋯</td><td>4</td><td>2</td><td> 1.36161800</td><td>2</td><td>3</td><td>1</td><td>3</td><td>2</td><td>2</td><td>1</td></tr>\n",
              "\t<tr><td>0</td><td>1</td><td>-0.240736767</td><td>3</td><td>4</td><td> 0.24612579</td><td>1</td><td>4</td><td>1</td><td>1</td><td>⋯</td><td>4</td><td>1</td><td>-0.22391208</td><td>1</td><td>1</td><td>2</td><td>3</td><td>1</td><td>2</td><td>1</td></tr>\n",
              "\t<tr><td>0</td><td>1</td><td>-0.738298117</td><td>1</td><td>3</td><td> 1.03719783</td><td>1</td><td>2</td><td>4</td><td>3</td><td>⋯</td><td>2</td><td>2</td><td>-0.66433710</td><td>2</td><td>1</td><td>2</td><td>3</td><td>1</td><td>2</td><td>1</td></tr>\n",
              "\t<tr><td>0</td><td>1</td><td> 0.256824584</td><td>2</td><td>3</td><td>-0.45496314</td><td>1</td><td>2</td><td>2</td><td>3</td><td>⋯</td><td>4</td><td>1</td><td>-1.28093214</td><td>2</td><td>1</td><td>1</td><td>2</td><td>2</td><td>1</td><td>1</td></tr>\n",
              "\t<tr><td>0</td><td>1</td><td> 0.256824584</td><td>2</td><td>4</td><td>-0.34301564</td><td>1</td><td>4</td><td>4</td><td>3</td><td>⋯</td><td>1</td><td>1</td><td> 0.83310797</td><td>2</td><td>2</td><td>1</td><td>3</td><td>1</td><td>1</td><td>1</td></tr>\n",
              "\t<tr><td>0</td><td>3</td><td> 0.008043908</td><td>3</td><td>4</td><td> 3.33318435</td><td>4</td><td>4</td><td>4</td><td>3</td><td>⋯</td><td>4</td><td>4</td><td>-0.48816710</td><td>2</td><td>3</td><td>1</td><td>4</td><td>1</td><td>2</td><td>1</td></tr>\n",
              "\t<tr><td>0</td><td>2</td><td>-0.738298117</td><td>2</td><td>3</td><td> 1.13249491</td><td>4</td><td>1</td><td>2</td><td>3</td><td>⋯</td><td>1</td><td>4</td><td> 1.44970300</td><td>2</td><td>2</td><td>1</td><td>4</td><td>1</td><td>2</td><td>1</td></tr>\n",
              "\t<tr><td>0</td><td>1</td><td> 0.754385934</td><td>2</td><td>2</td><td> 1.09069173</td><td>4</td><td>4</td><td>4</td><td>3</td><td>⋯</td><td>4</td><td>2</td><td>-0.40008209</td><td>2</td><td>2</td><td>1</td><td>3</td><td>1</td><td>1</td><td>1</td></tr>\n",
              "</tbody>\n",
              "</table>\n"
            ],
            "text/plain": [
              "     credit.rating account.balance credit.duration.months\n",
              "1    1             1               -0.2407368            \n",
              "2    1             1               -0.9870788            \n",
              "3    1             2               -0.7382981            \n",
              "4    1             1               -0.7382981            \n",
              "5    1             1               -0.7382981            \n",
              "6    1             1               -0.9041519            \n",
              "7    1             1               -1.0700057            \n",
              "8    1             1               -1.2358595            \n",
              "9    1             3               -0.2407368            \n",
              "10   1             2                0.2568246            \n",
              "11   1             1               -0.8212250            \n",
              "12   1             1                0.7543859            \n",
              "13   1             1               -1.2358595            \n",
              "14   1             2                2.2470700            \n",
              "15   1             1               -0.2407368            \n",
              "16   1             1               -1.2358595            \n",
              "17   1             1               -0.8212250            \n",
              "18   1             2               -0.2407368            \n",
              "19   1             2                1.2519473            \n",
              "20   1             3               -0.8212250            \n",
              "21   1             1               -1.2358595            \n",
              "22   1             2               -0.7382981            \n",
              "23   0             2                1.2519473            \n",
              "24   1             2               -0.7382981            \n",
              "25   1             1               -1.2358595            \n",
              "26   1             2               -0.8212250            \n",
              "27   1             1               -0.7382981            \n",
              "28   1             2               -0.9870788            \n",
              "29   1             3               -0.4895174            \n",
              "30   1             3                1.7495086            \n",
              "⋮    ⋮             ⋮               ⋮                     \n",
              "971  0             3                2.247069984          \n",
              "972  0             2                0.505605259          \n",
              "973  0             3               -0.240736767          \n",
              "974  0             1                1.998289309          \n",
              "975  0             1               -1.235859467          \n",
              "976  0             1                0.754385934          \n",
              "977  0             2                2.247069984          \n",
              "978  0             1               -1.235859467          \n",
              "979  0             2               -0.738298117          \n",
              "980  0             1               -0.738298117          \n",
              "981  0             2                0.256824584          \n",
              "982  0             3               -0.240736767          \n",
              "983  0             2                2.247069984          \n",
              "984  0             1               -0.240736767          \n",
              "985  0             1                2.247069984          \n",
              "986  0             3               -0.738298117          \n",
              "987  0             1               -0.572444333          \n",
              "988  0             1               -0.738298117          \n",
              "989  0             1               -0.240736767          \n",
              "990  0             2                0.256824584          \n",
              "991  0             1               -0.240736767          \n",
              "992  0             2                0.256824584          \n",
              "993  0             1               -0.240736767          \n",
              "994  0             1               -0.240736767          \n",
              "995  0             1               -0.738298117          \n",
              "996  0             1                0.256824584          \n",
              "997  0             1                0.256824584          \n",
              "998  0             3                0.008043908          \n",
              "999  0             2               -0.738298117          \n",
              "1000 0             1                0.754385934          \n",
              "     previous.credit.payment.status credit.purpose credit.amount savings\n",
              "1    3                              2              -0.78726299   1      \n",
              "2    3                              4              -0.16730058   1      \n",
              "3    2                              4              -0.86094995   2      \n",
              "4    3                              4              -0.40713747   1      \n",
              "5    3                              4              -0.38977852   1      \n",
              "6    3                              4              -0.36498002   1      \n",
              "7    3                              4               0.04490370   1      \n",
              "8    3                              4              -0.67673255   1      \n",
              "9    3                              3              -0.76990405   1      \n",
              "10   2                              3               0.17243883   3      \n",
              "11   3                              4               0.22451567   1      \n",
              "12   3                              1               1.03294666   2      \n",
              "13   3                              3              -0.46559107   1      \n",
              "14   3                              4               1.52714527   2      \n",
              "15   2                              3              -0.47303061   4      \n",
              "16   2                              3              -0.22114874   3      \n",
              "17   3                              4               0.23656065   1      \n",
              "18   2                              3              -0.02063518   3      \n",
              "19   3                              3              -0.33097066   1      \n",
              "20   3                              4               1.40173573   1      \n",
              "21   3                              4               0.14338916   1      \n",
              "22   3                              4              -0.05216470   1      \n",
              "23   2                              3              -0.31432024   1      \n",
              "24   3                              3              -0.65441390   1      \n",
              "25   3                              4               0.51182397   4      \n",
              "26   3                              3               0.53130850   1      \n",
              "27   2                              2              -0.92790590   1      \n",
              "28   3                              3              -0.75006525   1      \n",
              "29   2                              4               0.10087745   4      \n",
              "30   3                              1               0.54016510   1      \n",
              "⋮    ⋮                              ⋮              ⋮             ⋮      \n",
              "971  2                              4               0.55716979   1      \n",
              "972  1                              4               1.78788375   1      \n",
              "973  2                              3              -0.41493128   1      \n",
              "974  1                              4               3.02710005   1      \n",
              "975  2                              3              -1.00017580   1      \n",
              "976  2                              3               3.09157614   1      \n",
              "977  1                              4               5.36807813   1      \n",
              "978  2                              4               4.11823390   1      \n",
              "979  2                              2              -0.18040835   4      \n",
              "980  2                              1               0.04065253   1      \n",
              "981  2                              3              -0.43654140   1      \n",
              "982  3                              4              -0.39048705   1      \n",
              "983  3                              2               0.64644438   1      \n",
              "984  2                              3              -0.49216088   1      \n",
              "985  2                              3               1.32060922   1      \n",
              "986  3                              4              -0.34691255   1      \n",
              "987  2                              4               2.02169815   1      \n",
              "988  2                              3              -0.92011208   2      \n",
              "989  2                              4              -0.81312428   1      \n",
              "990  2                              4              -0.19599598   1      \n",
              "991  2                              3              -0.89318800   1      \n",
              "992  2                              1               3.29740367   1      \n",
              "993  2                              1               1.50199251   4      \n",
              "994  3                              4               0.24612579   1      \n",
              "995  1                              3               1.03719783   1      \n",
              "996  2                              3              -0.45496314   1      \n",
              "997  2                              4              -0.34301564   1      \n",
              "998  3                              4               3.33318435   4      \n",
              "999  2                              3               1.13249491   4      \n",
              "1000 2                              2               1.09069173   4      \n",
              "     employment.duration installment.rate marital.status ⋯ residence.duration\n",
              "1    1                   4                1              ⋯ 4                 \n",
              "2    2                   2                3              ⋯ 2                 \n",
              "3    3                   2                1              ⋯ 4                 \n",
              "4    2                   3                3              ⋯ 2                 \n",
              "5    2                   4                3              ⋯ 4                 \n",
              "6    1                   1                3              ⋯ 3                 \n",
              "7    3                   1                3              ⋯ 4                 \n",
              "8    1                   2                3              ⋯ 4                 \n",
              "9    1                   4                1              ⋯ 4                 \n",
              "10   1                   1                1              ⋯ 4                 \n",
              "11   2                   2                3              ⋯ 2                 \n",
              "12   3                   1                4              ⋯ 4                 \n",
              "13   3                   1                1              ⋯ 4                 \n",
              "14   1                   2                3              ⋯ 4                 \n",
              "15   3                   2                4              ⋯ 4                 \n",
              "16   2                   2                3              ⋯ 3                 \n",
              "17   2                   1                3              ⋯ 2                 \n",
              "18   1                   1                4              ⋯ 3                 \n",
              "19   4                   4                3              ⋯ 4                 \n",
              "20   2                   1                3              ⋯ 4                 \n",
              "21   2                   1                3              ⋯ 3                 \n",
              "22   1                   1                3              ⋯ 3                 \n",
              "23   1                   4                3              ⋯ 1                 \n",
              "24   3                   4                3              ⋯ 3                 \n",
              "25   1                   1                3              ⋯ 3                 \n",
              "26   3                   2                3              ⋯ 4                 \n",
              "27   4                   4                1              ⋯ 4                 \n",
              "28   4                   2                3              ⋯ 4                 \n",
              "29   2                   3                3              ⋯ 2                 \n",
              "30   4                   4                3              ⋯ 4                 \n",
              "⋮    ⋮                   ⋮                ⋮              ⋱ ⋮                 \n",
              "971  1                   3                3              ⋯ 2                 \n",
              "972  4                   2                1              ⋯ 4                 \n",
              "973  2                   4                3              ⋯ 2                 \n",
              "974  4                   2                3              ⋯ 4                 \n",
              "975  1                   4                1              ⋯ 4                 \n",
              "976  1                   1                1              ⋯ 1                 \n",
              "977  2                   1                1              ⋯ 2                 \n",
              "978  4                   1                3              ⋯ 4                 \n",
              "979  4                   1                1              ⋯ 2                 \n",
              "980  4                   3                3              ⋯ 4                 \n",
              "981  1                   1                4              ⋯ 1                 \n",
              "982  2                   4                4              ⋯ 2                 \n",
              "983  2                   2                1              ⋯ 3                 \n",
              "984  2                   4                1              ⋯ 4                 \n",
              "985  3                   1                4              ⋯ 1                 \n",
              "986  1                   4                3              ⋯ 2                 \n",
              "987  4                   1                1              ⋯ 4                 \n",
              "988  3                   4                4              ⋯ 1                 \n",
              "989  1                   1                1              ⋯ 2                 \n",
              "990  2                   3                1              ⋯ 4                 \n",
              "991  1                   4                1              ⋯ 1                 \n",
              "992  4                   4                1              ⋯ 2                 \n",
              "993  4                   1                3              ⋯ 4                 \n",
              "994  4                   1                1              ⋯ 4                 \n",
              "995  2                   4                3              ⋯ 2                 \n",
              "996  2                   2                3              ⋯ 4                 \n",
              "997  4                   4                3              ⋯ 1                 \n",
              "998  4                   4                3              ⋯ 4                 \n",
              "999  1                   2                3              ⋯ 1                 \n",
              "1000 4                   4                3              ⋯ 4                 \n",
              "     current.assets age         other.credits apartment.type bank.credits\n",
              "1    2              -1.28093214 2             1              1           \n",
              "2    1               0.04034293 2             1              2           \n",
              "3    1              -1.10476213 2             1              1           \n",
              "4    1               0.30459795 2             1              2           \n",
              "5    2               0.21651294 1             2              2           \n",
              "6    1               1.09736299 2             1              2           \n",
              "7    1               0.30459795 2             2              2           \n",
              "8    1               0.39268295 2             2              1           \n",
              "9    3               2.59480806 2             2              2           \n",
              "10   4              -1.10476213 2             1              1           \n",
              "11   1               0.04034293 2             1              2           \n",
              "12   3              -1.01667712 2             1              2           \n",
              "13   3              -0.40008209 2             2              1           \n",
              "14   4              -0.40008209 2             2              1           \n",
              "15   3              -1.10476213 2             1              2           \n",
              "16   1               0.74502297 2             1              1           \n",
              "17   1               0.39268295 2             2              2           \n",
              "18   1              -0.92859212 2             1              1           \n",
              "19   1               0.04034293 2             2              1           \n",
              "20   2               0.30459795 2             2              2           \n",
              "21   1               0.12842794 2             1              2           \n",
              "22   1               1.18544799 1             2              2           \n",
              "23   4              -0.22391208 2             1              1           \n",
              "24   2              -0.84050711 2             2              1           \n",
              "25   1               0.74502297 2             2              2           \n",
              "26   2               1.36161800 2             2              1           \n",
              "27   2              -1.01667712 2             1              1           \n",
              "28   1               0.12842794 2             2              2           \n",
              "29   4              -0.57625210 2             2              1           \n",
              "30   4               1.80204302 2             3              1           \n",
              "⋮    ⋮              ⋮           ⋮             ⋮              ⋮           \n",
              "971  3              -0.22391208 2             1              1           \n",
              "972  4               0.56885296 1             3              2           \n",
              "973  1               0.12842794 2             2              1           \n",
              "974  3              -0.57625210 2             1              2           \n",
              "975  2              -1.10476213 2             2              1           \n",
              "976  4              -0.13582708 1             2              1           \n",
              "977  2              -0.31199709 1             2              1           \n",
              "978  4               2.85906308 1             2              1           \n",
              "979  2              -0.92859212 2             2              1           \n",
              "980  4              -0.04774207 2             3              1           \n",
              "981  2              -1.19284713 2             2              1           \n",
              "982  3              -0.66433710 2             2              1           \n",
              "983  3              -0.48816710 2             2              1           \n",
              "984  3              -0.92859212 1             1              2           \n",
              "985  1              -0.13582708 2             2              2           \n",
              "986  3               0.56885296 1             2              2           \n",
              "987  2               0.83310797 2             2              1           \n",
              "988  2              -1.36901714 2             2              1           \n",
              "989  3              -1.10476213 2             2              1           \n",
              "990  2              -1.36901714 2             1              1           \n",
              "991  1              -0.75242211 2             2              1           \n",
              "992  4               0.74502297 2             3              1           \n",
              "993  2               1.36161800 2             3              1           \n",
              "994  1              -0.22391208 1             1              2           \n",
              "995  2              -0.66433710 2             1              2           \n",
              "996  1              -1.28093214 2             1              1           \n",
              "997  1               0.83310797 2             2              1           \n",
              "998  4              -0.48816710 2             3              1           \n",
              "999  4               1.44970300 2             2              1           \n",
              "1000 2              -0.40008209 2             2              1           \n",
              "     occupation dependents telephone foreign.worker\n",
              "1    3          1          1         1             \n",
              "2    3          2          1         1             \n",
              "3    2          1          1         1             \n",
              "4    2          2          1         2             \n",
              "5    2          1          1         2             \n",
              "6    2          2          1         2             \n",
              "7    2          1          1         2             \n",
              "8    2          2          1         2             \n",
              "9    1          1          1         1             \n",
              "10   1          1          1         1             \n",
              "11   3          2          1         1             \n",
              "12   3          1          1         1             \n",
              "13   3          1          1         1             \n",
              "14   4          1          2         1             \n",
              "15   2          1          1         1             \n",
              "16   3          2          1         1             \n",
              "17   2          2          1         1             \n",
              "18   3          1          1         1             \n",
              "19   3          1          1         1             \n",
              "20   2          1          1         1             \n",
              "21   3          2          1         1             \n",
              "22   2          2          1         1             \n",
              "23   2          1          1         1             \n",
              "24   3          1          1         1             \n",
              "25   2          2          1         1             \n",
              "26   3          1          1         1             \n",
              "27   3          1          1         1             \n",
              "28   2          1          1         1             \n",
              "29   3          1          1         1             \n",
              "30   3          1          1         1             \n",
              "⋮    ⋮          ⋮          ⋮         ⋮             \n",
              "971  4          1          2         1             \n",
              "972  4          1          2         1             \n",
              "973  3          1          1         1             \n",
              "974  3          1          1         1             \n",
              "975  3          1          1         1             \n",
              "976  2          1          2         1             \n",
              "977  4          1          2         2             \n",
              "978  4          1          2         1             \n",
              "979  3          1          2         1             \n",
              "980  3          1          2         1             \n",
              "981  3          1          2         1             \n",
              "982  3          1          2         1             \n",
              "983  4          1          2         1             \n",
              "984  3          1          1         1             \n",
              "985  3          1          2         1             \n",
              "986  4          1          2         1             \n",
              "987  4          1          2         2             \n",
              "988  3          1          1         1             \n",
              "989  2          1          1         1             \n",
              "990  2          1          2         1             \n",
              "991  1          1          1         1             \n",
              "992  4          1          2         1             \n",
              "993  3          2          2         1             \n",
              "994  3          1          2         1             \n",
              "995  3          1          2         1             \n",
              "996  2          2          1         1             \n",
              "997  3          1          1         1             \n",
              "998  4          1          2         1             \n",
              "999  4          1          2         1             \n",
              "1000 3          1          1         1             "
            ]
          },
          "metadata": {
            "tags": []
          }
        }
      ]
    },
    {
      "cell_type": "markdown",
      "metadata": {
        "id": "OIJ5UoC-dPE9"
      },
      "source": [
        "## Dividindo os dados em Treino e Teste"
      ]
    },
    {
      "cell_type": "code",
      "metadata": {
        "id": "Rmw_bjpmcwpO"
      },
      "source": [
        "# Preparando os dados de treino e de teste\n",
        "indexes <- sample(1:nrow(credito_dataset_final), size = 0.6 * nrow(credito_dataset_final))\n",
        "train.data <- credito_dataset_final[indexes,]\n",
        "test.data <- credito_dataset_final[-indexes,]\n",
        "\n",
        "\n"
      ],
      "execution_count": 14,
      "outputs": []
    },
    {
      "cell_type": "code",
      "metadata": {
        "colab": {
          "base_uri": "https://localhost:8080/",
          "height": 69
        },
        "id": "zZ2LtzK-dU1F",
        "outputId": "ded21ca8-1c6b-4727-b782-8ec771bde37d"
      },
      "source": [
        "# Verificando a qual classe pertence\n",
        "class(train.data)\n",
        "print(\"-------------------------------\")\n",
        "class(test.data)"
      ],
      "execution_count": 15,
      "outputs": [
        {
          "output_type": "display_data",
          "data": {
            "text/plain": [
              "[1] \"data.frame\""
            ],
            "text/latex": "'data.frame'",
            "text/markdown": "'data.frame'",
            "text/html": [
              "'data.frame'"
            ]
          },
          "metadata": {
            "tags": []
          }
        },
        {
          "output_type": "stream",
          "text": [
            "[1] \"-------------------------------\"\n"
          ],
          "name": "stdout"
        },
        {
          "output_type": "display_data",
          "data": {
            "text/plain": [
              "[1] \"data.frame\""
            ],
            "text/latex": "'data.frame'",
            "text/markdown": "'data.frame'",
            "text/html": [
              "'data.frame'"
            ]
          },
          "metadata": {
            "tags": []
          }
        }
      ]
    },
    {
      "cell_type": "code",
      "metadata": {
        "colab": {
          "base_uri": "https://localhost:8080/",
          "height": 34
        },
        "id": "HG9T1G8Hde3S",
        "outputId": "8ac33261-5e24-42ed-d4ee-4ba8b3436819"
      },
      "source": [
        "# Separando os atributos e as classes\n",
        "test.feature.vars <- test.data[,-1]\n",
        "test.class.var <- test.data[,1]\n",
        "class(test.feature.vars)\n",
        "\n"
      ],
      "execution_count": 16,
      "outputs": [
        {
          "output_type": "display_data",
          "data": {
            "text/plain": [
              "[1] \"data.frame\""
            ],
            "text/latex": "'data.frame'",
            "text/markdown": "'data.frame'",
            "text/html": [
              "'data.frame'"
            ]
          },
          "metadata": {
            "tags": []
          }
        }
      ]
    },
    {
      "cell_type": "markdown",
      "metadata": {
        "id": "jCewuEekdxfE"
      },
      "source": [
        "## Construção do Modelo de Regressão Logśtica - Base"
      ]
    },
    {
      "cell_type": "code",
      "metadata": {
        "id": "4WkSHFv8dvMj"
      },
      "source": [
        "# Construindo o modelo de regressão logística\n",
        "formula.init <- \"credit.rating ~ .\"\n",
        "formula.init <- as.formula(formula.init)\n",
        "# modelo v1\n",
        "modelo_v1 <- glm(formula = formula.init, data = train.data, family = \"binomial\")"
      ],
      "execution_count": 17,
      "outputs": []
    },
    {
      "cell_type": "code",
      "metadata": {
        "id": "Hot5lqomeOsa"
      },
      "source": [
        "help(glm)"
      ],
      "execution_count": 18,
      "outputs": []
    },
    {
      "cell_type": "code",
      "metadata": {
        "colab": {
          "base_uri": "https://localhost:8080/",
          "height": 1000
        },
        "id": "KZsRIla3eQQt",
        "outputId": "2dd3b919-8473-4f39-c2d5-5123f138e10f"
      },
      "source": [
        "summary(modelo_v1)"
      ],
      "execution_count": 19,
      "outputs": [
        {
          "output_type": "display_data",
          "data": {
            "text/plain": [
              "\n",
              "Call:\n",
              "glm(formula = formula.init, family = \"binomial\", data = train.data)\n",
              "\n",
              "Deviance Residuals: \n",
              "    Min       1Q   Median       3Q      Max  \n",
              "-2.6444  -0.6511   0.3690   0.6894   1.9892  \n",
              "\n",
              "Coefficients:\n",
              "                                 Estimate Std. Error z value Pr(>|z|)    \n",
              "(Intercept)                      0.192791   1.269359   0.152 0.879281    \n",
              "account.balance2                 0.996287   0.291757   3.415 0.000638 ***\n",
              "account.balance3                 1.862615   0.291376   6.392 1.63e-10 ***\n",
              "credit.duration.months          -0.286772   0.158292  -1.812 0.070038 .  \n",
              "previous.credit.payment.status2  0.670459   0.386544   1.734 0.082831 .  \n",
              "previous.credit.payment.status3  1.753159   0.428264   4.094 4.25e-05 ***\n",
              "credit.purpose2                 -0.324184   0.497293  -0.652 0.514467    \n",
              "credit.purpose3                 -1.253658   0.474115  -2.644 0.008188 ** \n",
              "credit.purpose4                 -1.177130   0.464566  -2.534 0.011282 *  \n",
              "credit.amount                   -0.345596   0.162129  -2.132 0.033039 *  \n",
              "savings2                        -0.032115   0.368813  -0.087 0.930612    \n",
              "savings3                         0.621342   0.433973   1.432 0.152215    \n",
              "savings4                         0.997393   0.349612   2.853 0.004333 ** \n",
              "employment.duration2             0.591511   0.306466   1.930 0.053594 .  \n",
              "employment.duration3             1.004028   0.374031   2.684 0.007267 ** \n",
              "employment.duration4             0.554623   0.363648   1.525 0.127218    \n",
              "installment.rate2                0.144561   0.400299   0.361 0.718001    \n",
              "installment.rate3               -0.014304   0.435624  -0.033 0.973805    \n",
              "installment.rate4               -0.453069   0.383570  -1.181 0.237528    \n",
              "marital.status3                  0.729441   0.273388   2.668 0.007627 ** \n",
              "marital.status4                  0.385666   0.401579   0.960 0.336867    \n",
              "guarantor2                       0.710530   0.426162   1.667 0.095459 .  \n",
              "residence.duration2             -0.791883   0.385335  -2.055 0.039874 *  \n",
              "residence.duration3             -0.005133   0.435311  -0.012 0.990592    \n",
              "residence.duration4             -0.195537   0.389046  -0.503 0.615242    \n",
              "current.assets2                 -0.298234   0.331520  -0.900 0.368336    \n",
              "current.assets3                  0.008274   0.319577   0.026 0.979346    \n",
              "current.assets4                 -0.821424   0.559940  -1.467 0.142380    \n",
              "age                              0.248920   0.141478   1.759 0.078506 .  \n",
              "other.credits2                   0.522452   0.281329   1.857 0.063299 .  \n",
              "apartment.type2                  0.396134   0.319044   1.242 0.214373    \n",
              "apartment.type3                  0.326403   0.618771   0.528 0.597845    \n",
              "bank.credits2                   -0.568310   0.304071  -1.869 0.061622 .  \n",
              "occupation2                     -1.193145   1.050438  -1.136 0.256017    \n",
              "occupation3                     -1.512311   1.024284  -1.476 0.139821    \n",
              "occupation4                     -1.242455   1.073163  -1.158 0.246966    \n",
              "dependents2                     -0.321508   0.326504  -0.985 0.324772    \n",
              "telephone2                       0.394341   0.263860   1.495 0.135042    \n",
              "foreign.worker2                  2.092138   1.005640   2.080 0.037488 *  \n",
              "---\n",
              "Signif. codes:  0 ‘***’ 0.001 ‘**’ 0.01 ‘*’ 0.05 ‘.’ 0.1 ‘ ’ 1\n",
              "\n",
              "(Dispersion parameter for binomial family taken to be 1)\n",
              "\n",
              "    Null deviance: 729.62  on 599  degrees of freedom\n",
              "Residual deviance: 525.69  on 561  degrees of freedom\n",
              "AIC: 603.69\n",
              "\n",
              "Number of Fisher Scoring iterations: 5\n"
            ]
          },
          "metadata": {
            "tags": []
          }
        }
      ]
    },
    {
      "cell_type": "code",
      "metadata": {
        "id": "nhMSLazceYK6"
      },
      "source": [
        "# Fazendo previsões e analisando o resultado\n",
        "previsoes <- predict(modelo_v1, test.data, type = \"response\")\n",
        "previsoes <- round(previsoes)\n"
      ],
      "execution_count": 20,
      "outputs": []
    },
    {
      "cell_type": "markdown",
      "metadata": {
        "id": "-jAcWqEPfLwN"
      },
      "source": [
        "## Matriz de Confusão"
      ]
    },
    {
      "cell_type": "code",
      "metadata": {
        "colab": {
          "base_uri": "https://localhost:8080/",
          "height": 486
        },
        "id": "JVV_eA8be2C8",
        "outputId": "8144f538-5e6e-4222-c773-7d6cecabb172"
      },
      "source": [
        "# Confusion Matrix\n",
        "confusionMatrix(table(data = previsoes, reference = test.class.var), positive = '1')\n",
        "\n"
      ],
      "execution_count": 23,
      "outputs": [
        {
          "output_type": "display_data",
          "data": {
            "text/plain": [
              "Confusion Matrix and Statistics\n",
              "\n",
              "    reference\n",
              "data   0   1\n",
              "   0  51  33\n",
              "   1  71 245\n",
              "                                          \n",
              "               Accuracy : 0.74            \n",
              "                 95% CI : (0.6941, 0.7823)\n",
              "    No Information Rate : 0.695           \n",
              "    P-Value [Acc > NIR] : 0.0273746       \n",
              "                                          \n",
              "                  Kappa : 0.328           \n",
              "                                          \n",
              " Mcnemar's Test P-Value : 0.0002855       \n",
              "                                          \n",
              "            Sensitivity : 0.8813          \n",
              "            Specificity : 0.4180          \n",
              "         Pos Pred Value : 0.7753          \n",
              "         Neg Pred Value : 0.6071          \n",
              "             Prevalence : 0.6950          \n",
              "         Detection Rate : 0.6125          \n",
              "   Detection Prevalence : 0.7900          \n",
              "      Balanced Accuracy : 0.6497          \n",
              "                                          \n",
              "       'Positive' Class : 1               \n",
              "                                          "
            ]
          },
          "metadata": {
            "tags": []
          }
        }
      ]
    },
    {
      "cell_type": "markdown",
      "metadata": {
        "id": "m9muj-1ffZY0"
      },
      "source": [
        "## Feature Selection"
      ]
    },
    {
      "cell_type": "code",
      "metadata": {
        "id": "VudFoMBJfQYJ"
      },
      "source": [
        "# Feature Selection -> verificando as variaveis que mais contribui para a variavel resposta.\n",
        "formula <- \"credit.rating ~ .\"\n",
        "formula <- as.formula(formula)\n",
        "control <- trainControl(method = \"repeatedcv\", number = 10, repeats = 2)\n",
        "model <- train(formula, data = train.data, method = \"glm\", trControl = control)\n",
        "importance <- varImp(model, scale = FALSE)"
      ],
      "execution_count": 24,
      "outputs": []
    },
    {
      "cell_type": "code",
      "metadata": {
        "colab": {
          "base_uri": "https://localhost:8080/",
          "height": 437
        },
        "id": "yxANKji8fxp0",
        "outputId": "3b8c311b-2b7e-4931-c308-2899c2118877"
      },
      "source": [
        "plot(importance)"
      ],
      "execution_count": 25,
      "outputs": [
        {
          "output_type": "display_data",
          "data": {
            "image/png": "[encoded data removed]",
            "text/plain": [
              "plot without title"
            ]
          },
          "metadata": {
            "tags": [],
            "image/png": {
              "width": 420,
              "height": 420
            }
          }
        }
      ]
    },
    {
      "cell_type": "code",
      "metadata": {
        "id": "fRCjfxqAf1pe"
      },
      "source": [
        "# Construindo um novo modelo com as variáveis selecionadas\n",
        "formula.new <- \"credit.rating ~ account.balance + credit.purpose + previous.credit.payment.status + savings + credit.duration.months\"\n",
        "formula.new <- as.formula(formula.new)\n",
        "modelo_v2 <- glm(formula = formula.new, data = train.data, family = \"binomial\")\n",
        "\n"
      ],
      "execution_count": 26,
      "outputs": []
    },
    {
      "cell_type": "code",
      "metadata": {
        "colab": {
          "base_uri": "https://localhost:8080/",
          "height": 573
        },
        "id": "bHHht-XvgREu",
        "outputId": "a896f44a-34f8-45c6-f42d-996b29758346"
      },
      "source": [
        "summary(modelo_v2)"
      ],
      "execution_count": 27,
      "outputs": [
        {
          "output_type": "display_data",
          "data": {
            "text/plain": [
              "\n",
              "Call:\n",
              "glm(formula = formula.new, family = \"binomial\", data = train.data)\n",
              "\n",
              "Deviance Residuals: \n",
              "    Min       1Q   Median       3Q      Max  \n",
              "-2.5681  -0.8251   0.4632   0.7589   1.9297  \n",
              "\n",
              "Coefficients:\n",
              "                                Estimate Std. Error z value Pr(>|z|)    \n",
              "(Intercept)                     -0.49392    0.49693  -0.994  0.32025    \n",
              "account.balance2                 0.78031    0.25480   3.062  0.00220 ** \n",
              "account.balance3                 1.74127    0.25795   6.751 1.47e-11 ***\n",
              "credit.purpose2                 -0.38992    0.44650  -0.873  0.38250    \n",
              "credit.purpose3                 -1.00065    0.41577  -2.407  0.01610 *  \n",
              "credit.purpose4                 -0.90256    0.41489  -2.175  0.02960 *  \n",
              "previous.credit.payment.status2  0.88167    0.33474   2.634  0.00844 ** \n",
              "previous.credit.payment.status3  1.70355    0.36312   4.691 2.71e-06 ***\n",
              "savings2                         0.01468    0.33773   0.043  0.96532    \n",
              "savings3                         0.68978    0.39380   1.752  0.07984 .  \n",
              "savings4                         0.95092    0.31830   2.987  0.00281 ** \n",
              "credit.duration.months          -0.48579    0.10707  -4.537 5.71e-06 ***\n",
              "---\n",
              "Signif. codes:  0 ‘***’ 0.001 ‘**’ 0.01 ‘*’ 0.05 ‘.’ 0.1 ‘ ’ 1\n",
              "\n",
              "(Dispersion parameter for binomial family taken to be 1)\n",
              "\n",
              "    Null deviance: 729.62  on 599  degrees of freedom\n",
              "Residual deviance: 586.81  on 588  degrees of freedom\n",
              "AIC: 610.81\n",
              "\n",
              "Number of Fisher Scoring iterations: 5\n"
            ]
          },
          "metadata": {
            "tags": []
          }
        }
      ]
    },
    {
      "cell_type": "code",
      "metadata": {
        "id": "RR2rPZ3WgVOm"
      },
      "source": [
        "# Prevendo e Avaliando o modelo\n",
        "previsoes_new <- predict(modelo_v2, test.data, type = \"response\")\n",
        "previsoes_new <- round(previsoes_new)\n",
        "\n"
      ],
      "execution_count": 28,
      "outputs": []
    },
    {
      "cell_type": "code",
      "metadata": {
        "colab": {
          "base_uri": "https://localhost:8080/",
          "height": 486
        },
        "id": "P6b9mTjegsuM",
        "outputId": "080c82bb-ad43-4a61-d7af-6831ee6dddc1"
      },
      "source": [
        "# Confusion Matrix\n",
        "confusionMatrix(table(data = previsoes_new, reference = test.class.var), positive = '1')\n",
        "\n"
      ],
      "execution_count": 29,
      "outputs": [
        {
          "output_type": "display_data",
          "data": {
            "text/plain": [
              "Confusion Matrix and Statistics\n",
              "\n",
              "    reference\n",
              "data   0   1\n",
              "   0  48  31\n",
              "   1  74 247\n",
              "                                        \n",
              "               Accuracy : 0.7375        \n",
              "                 95% CI : (0.6915, 0.78)\n",
              "    No Information Rate : 0.695         \n",
              "    P-Value [Acc > NIR] : 0.03522       \n",
              "                                        \n",
              "                  Kappa : 0.3129        \n",
              "                                        \n",
              " Mcnemar's Test P-Value : 4.153e-05     \n",
              "                                        \n",
              "            Sensitivity : 0.8885        \n",
              "            Specificity : 0.3934        \n",
              "         Pos Pred Value : 0.7695        \n",
              "         Neg Pred Value : 0.6076        \n",
              "             Prevalence : 0.6950        \n",
              "         Detection Rate : 0.6175        \n",
              "   Detection Prevalence : 0.8025        \n",
              "      Balanced Accuracy : 0.6410        \n",
              "                                        \n",
              "       'Positive' Class : 1             \n",
              "                                        "
            ]
          },
          "metadata": {
            "tags": []
          }
        }
      ]
    },
    {
      "cell_type": "markdown",
      "metadata": {
        "id": "OzQPJ4sfg9S2"
      },
      "source": [
        "## Avaliação da Performance do Modelo"
      ]
    },
    {
      "cell_type": "code",
      "metadata": {
        "id": "QQ2rKlGxgwxh"
      },
      "source": [
        "# Plot do modelo com melhor acurácia\n",
        "modelo_final <- modelo_v2\n",
        "previsoes <- predict(modelo_final, test.feature.vars, type = \"response\")\n",
        "previsoes_finais <- prediction(previsoes, test.class.var)"
      ],
      "execution_count": 30,
      "outputs": []
    },
    {
      "cell_type": "code",
      "metadata": {
        "id": "I6-f2Ex_hPyn"
      },
      "source": [
        "# Função para Plot ROC\n",
        "plot.roc.curve <- function(predictions, title.text){\n",
        "  perf <- performance(predictions, \"tpr\", \"fpr\")\n",
        "  plot(perf,col = \"black\",lty = 1, lwd = 2,\n",
        "       main = title.text, cex.main = 0.6, cex.lab = 0.8,xaxs = \"i\", yaxs = \"i\")\n",
        "  abline(0,1, col = \"red\")\n",
        "  auc <- performance(predictions,\"auc\")\n",
        "  auc <- unlist(slot(auc, \"y.values\"))\n",
        "  auc <- round(auc,2)\n",
        "  legend(0.4,0.4,legend = c(paste0(\"AUC: \",auc)), cex = 0.6, bty = \"n\", box.col = \"white\")\n",
        " \n",
        "}"
      ],
      "execution_count": 31,
      "outputs": []
    },
    {
      "cell_type": "code",
      "metadata": {
        "colab": {
          "base_uri": "https://localhost:8080/",
          "height": 437
        },
        "id": "Y_BTxnDQhdDU",
        "outputId": "fb8cf0a6-c460-4842-f0c3-8499e9aa77dd"
      },
      "source": [
        "# Plot\n",
        "par(mfrow = c(1, 2))\n",
        "plot.roc.curve(previsoes_finais, title.text = \"Curva ROC\")"
      ],
      "execution_count": 32,
      "outputs": [
        {
          "output_type": "display_data",
          "data": {
            "image/png": "[encoded data removed]",
            "text/plain": [
              "Plot with title “Curva ROC”"
            ]
          },
          "metadata": {
            "tags": [],
            "image/png": {
              "width": 420,
              "height": 420
            }
          }
        }
      ]
    },
    {
      "cell_type": "markdown",
      "metadata": {
        "id": "odw78TJ-hxtu"
      },
      "source": [
        "## Prevendo com novos dados"
      ]
    },
    {
      "cell_type": "code",
      "metadata": {
        "id": "JQOfmADfhtQh"
      },
      "source": [
        "# Novos dados\n",
        "account.balance <- c(1, 4, 3)\n",
        "credit.purpose <- c(4, 2, 3)\n",
        "previous.credit.payment.status <- c(3, 3, 2)\n",
        "savings <- c(2, 3, 2)\n",
        "credit.duration.months <- c(15, 12, 8)\n",
        "\n"
      ],
      "execution_count": 33,
      "outputs": []
    },
    {
      "cell_type": "code",
      "metadata": {
        "id": "zU5AVM-ZiG-F"
      },
      "source": [
        "# Cria um dataframe\n",
        "novo_dataset <- data.frame(account.balance,\n",
        "                           credit.purpose,\n",
        "                           previous.credit.payment.status,\n",
        "                           savings,\n",
        "                          credit.duration.months)\n",
        "\n"
      ],
      "execution_count": 34,
      "outputs": []
    },
    {
      "cell_type": "code",
      "metadata": {
        "colab": {
          "base_uri": "https://localhost:8080/",
          "height": 192
        },
        "id": "jbr66PkHiLEF",
        "outputId": "a5c9fa6b-fcba-440b-b90a-566f5ac3f6de"
      },
      "source": [
        "View(novo_dataset)"
      ],
      "execution_count": 35,
      "outputs": [
        {
          "output_type": "display_data",
          "data": {
            "text/markdown": "\nA data.frame: 3 × 5\n\n| account.balance &lt;dbl&gt; | credit.purpose &lt;dbl&gt; | previous.credit.payment.status &lt;dbl&gt; | savings &lt;dbl&gt; | credit.duration.months &lt;dbl&gt; |\n|---|---|---|---|---|\n| 1 | 4 | 3 | 2 | 15 |\n| 4 | 2 | 3 | 3 | 12 |\n| 3 | 3 | 2 | 2 |  8 |\n\n",
            "text/latex": "A data.frame: 3 × 5\n\\begin{tabular}{lllll}\n account.balance & credit.purpose & previous.credit.payment.status & savings & credit.duration.months\\\\\n <dbl> & <dbl> & <dbl> & <dbl> & <dbl>\\\\\n\\hline\n\t 1 & 4 & 3 & 2 & 15\\\\\n\t 4 & 2 & 3 & 3 & 12\\\\\n\t 3 & 3 & 2 & 2 &  8\\\\\n\\end{tabular}\n",
            "text/html": [
              "<table class=\"dataframe\">\n",
              "<caption>A data.frame: 3 × 5</caption>\n",
              "<thead>\n",
              "\t<tr><th scope=col>account.balance</th><th scope=col>credit.purpose</th><th scope=col>previous.credit.payment.status</th><th scope=col>savings</th><th scope=col>credit.duration.months</th></tr>\n",
              "\t<tr><th scope=col>&lt;dbl&gt;</th><th scope=col>&lt;dbl&gt;</th><th scope=col>&lt;dbl&gt;</th><th scope=col>&lt;dbl&gt;</th><th scope=col>&lt;dbl&gt;</th></tr>\n",
              "</thead>\n",
              "<tbody>\n",
              "\t<tr><td>1</td><td>4</td><td>3</td><td>2</td><td>15</td></tr>\n",
              "\t<tr><td>4</td><td>2</td><td>3</td><td>3</td><td>12</td></tr>\n",
              "\t<tr><td>3</td><td>3</td><td>2</td><td>2</td><td> 8</td></tr>\n",
              "</tbody>\n",
              "</table>\n"
            ],
            "text/plain": [
              "  account.balance credit.purpose previous.credit.payment.status savings\n",
              "1 1               4              3                              2      \n",
              "2 4               2              3                              3      \n",
              "3 3               3              2                              2      \n",
              "  credit.duration.months\n",
              "1 15                    \n",
              "2 12                    \n",
              "3  8                    "
            ]
          },
          "metadata": {
            "tags": []
          }
        }
      ]
    },
    {
      "cell_type": "code",
      "metadata": {
        "id": "rcBFdqd2iPO3"
      },
      "source": [
        "# Separa variáveis explanatórias numéricas e categóricas\n",
        "new.numeric.vars <- c(\"credit.duration.months\")\n",
        "new.categorical.vars <- c('account.balance', 'previous.credit.payment.status',\n",
        "                          'credit.purpose', 'savings')\n",
        "\n"
      ],
      "execution_count": 36,
      "outputs": []
    },
    {
      "cell_type": "code",
      "metadata": {
        "colab": {
          "base_uri": "https://localhost:8080/",
          "height": 34
        },
        "id": "A9UXcolLkA7z",
        "outputId": "05a7ad7f-ef2c-4811-9e4f-dc8d10c938b0"
      },
      "source": [
        "new.categorical.vars"
      ],
      "execution_count": 41,
      "outputs": [
        {
          "output_type": "display_data",
          "data": {
            "text/plain": [
              "[1] \"account.balance\"                \"previous.credit.payment.status\"\n",
              "[3] \"credit.purpose\"                 \"savings\"                       "
            ],
            "text/latex": "\\begin{enumerate*}\n\\item 'account.balance'\n\\item 'previous.credit.payment.status'\n\\item 'credit.purpose'\n\\item 'savings'\n\\end{enumerate*}\n",
            "text/markdown": "1. 'account.balance'\n2. 'previous.credit.payment.status'\n3. 'credit.purpose'\n4. 'savings'\n\n\n",
            "text/html": [
              "<style>\n",
              ".list-inline {list-style: none; margin:0; padding: 0}\n",
              ".list-inline>li {display: inline-block}\n",
              ".list-inline>li:not(:last-child)::after {content: \"\\00b7\"; padding: 0 .5ex}\n",
              "</style>\n",
              "<ol class=list-inline><li>'account.balance'</li><li>'previous.credit.payment.status'</li><li>'credit.purpose'</li><li>'savings'</li></ol>\n"
            ]
          },
          "metadata": {
            "tags": []
          }
        }
      ]
    },
    {
      "cell_type": "code",
      "metadata": {
        "colab": {
          "base_uri": "https://localhost:8080/"
        },
        "id": "obcSdzT8ioBK",
        "outputId": "c12502c6-ad68-4374-f2c1-5b90fc02879a"
      },
      "source": [
        "# Aplica as transformações\n",
        "novo_dataset_final <- to.factors(df = novo_dataset, variables = new.categorical.vars)\n",
        "str(novo_dataset_final)"
      ],
      "execution_count": 37,
      "outputs": [
        {
          "output_type": "stream",
          "text": [
            "'data.frame':\t3 obs. of  5 variables:\n",
            " $ account.balance               : Factor w/ 3 levels \"1\",\"3\",\"4\": 1 3 2\n",
            " $ credit.purpose                : Factor w/ 3 levels \"2\",\"3\",\"4\": 3 1 2\n",
            " $ previous.credit.payment.status: Factor w/ 2 levels \"2\",\"3\": 2 2 1\n",
            " $ savings                       : Factor w/ 2 levels \"2\",\"3\": 1 2 1\n",
            " $ credit.duration.months        : num  15 12 8\n"
          ],
          "name": "stdout"
        }
      ]
    },
    {
      "cell_type": "code",
      "metadata": {
        "colab": {
          "base_uri": "https://localhost:8080/"
        },
        "id": "eBot4UUXitvk",
        "outputId": "87c65f82-92ab-447f-d5cf-20af90816c51"
      },
      "source": [
        "novo_dataset_final <- scale.features(novo_dataset_final, new.numeric.vars)\n",
        "str(novo_dataset_final)"
      ],
      "execution_count": 38,
      "outputs": [
        {
          "output_type": "stream",
          "text": [
            "'data.frame':\t3 obs. of  5 variables:\n",
            " $ account.balance               : Factor w/ 3 levels \"1\",\"3\",\"4\": 1 3 2\n",
            " $ credit.purpose                : Factor w/ 3 levels \"2\",\"3\",\"4\": 3 1 2\n",
            " $ previous.credit.payment.status: Factor w/ 2 levels \"2\",\"3\": 2 2 1\n",
            " $ savings                       : Factor w/ 2 levels \"2\",\"3\": 1 2 1\n",
            " $ credit.duration.months        : num [1:3, 1] 0.9492 0.0949 -1.0441\n",
            "  ..- attr(*, \"scaled:center\")= num 11.7\n",
            "  ..- attr(*, \"scaled:scale\")= num 3.51\n"
          ],
          "name": "stdout"
        }
      ]
    },
    {
      "cell_type": "code",
      "metadata": {
        "colab": {
          "base_uri": "https://localhost:8080/",
          "height": 192
        },
        "id": "ZzQBN-Opiyjr",
        "outputId": "c46a61cc-e43b-48ae-9e6f-87b6d678c6bf"
      },
      "source": [
        "View(novo_dataset_final)"
      ],
      "execution_count": 39,
      "outputs": [
        {
          "output_type": "display_data",
          "data": {
            "text/markdown": "\nA data.frame: 3 × 5\n\n| account.balance &lt;fct&gt; | credit.purpose &lt;fct&gt; | previous.credit.payment.status &lt;fct&gt; | savings &lt;fct&gt; | credit.duration.months &lt;dbl[,1]&gt; |\n|---|---|---|---|---|\n| 1 | 4 | 3 | 2 |  0.9491580 |\n| 4 | 2 | 3 | 3 |  0.0949158 |\n| 3 | 3 | 2 | 2 | -1.0440738 |\n\n",
            "text/latex": "A data.frame: 3 × 5\n\\begin{tabular}{lllll}\n account.balance & credit.purpose & previous.credit.payment.status & savings & credit.duration.months\\\\\n <fct> & <fct> & <fct> & <fct> & <dbl{[},1{]}>\\\\\n\\hline\n\t 1 & 4 & 3 & 2 &  0.9491580\\\\\n\t 4 & 2 & 3 & 3 &  0.0949158\\\\\n\t 3 & 3 & 2 & 2 & -1.0440738\\\\\n\\end{tabular}\n",
            "text/html": [
              "<table class=\"dataframe\">\n",
              "<caption>A data.frame: 3 × 5</caption>\n",
              "<thead>\n",
              "\t<tr><th scope=col>account.balance</th><th scope=col>credit.purpose</th><th scope=col>previous.credit.payment.status</th><th scope=col>savings</th><th scope=col>credit.duration.months</th></tr>\n",
              "\t<tr><th scope=col>&lt;fct&gt;</th><th scope=col>&lt;fct&gt;</th><th scope=col>&lt;fct&gt;</th><th scope=col>&lt;fct&gt;</th><th scope=col>&lt;dbl[,1]&gt;</th></tr>\n",
              "</thead>\n",
              "<tbody>\n",
              "\t<tr><td>1</td><td>4</td><td>3</td><td>2</td><td> 0.9491580</td></tr>\n",
              "\t<tr><td>4</td><td>2</td><td>3</td><td>3</td><td> 0.0949158</td></tr>\n",
              "\t<tr><td>3</td><td>3</td><td>2</td><td>2</td><td>-1.0440738</td></tr>\n",
              "</tbody>\n",
              "</table>\n"
            ],
            "text/plain": [
              "  account.balance credit.purpose previous.credit.payment.status savings\n",
              "1 1               4              3                              2      \n",
              "2 4               2              3                              3      \n",
              "3 3               3              2                              2      \n",
              "  credit.duration.months\n",
              "1  0.9491580            \n",
              "2  0.0949158            \n",
              "3 -1.0440738            "
            ]
          },
          "metadata": {
            "tags": []
          }
        }
      ]
    },
    {
      "cell_type": "code",
      "metadata": {
        "colab": {
          "base_uri": "https://localhost:8080/",
          "height": 69
        },
        "id": "e6QCYcuSlA2A",
        "outputId": "dfa0ccea-c68f-448f-f9b8-4d4493323681"
      },
      "source": [
        "novo_dataset_final$account.balance"
      ],
      "execution_count": 42,
      "outputs": [
        {
          "output_type": "display_data",
          "data": {
            "text/plain": [
              "[1] 1 4 3\n",
              "Levels: 1 3 4"
            ],
            "text/latex": "\\begin{enumerate*}\n\\item 1\n\\item 4\n\\item 3\n\\end{enumerate*}\n\n\\emph{Levels}: \\begin{enumerate*}\n\\item '1'\n\\item '3'\n\\item '4'\n\\end{enumerate*}\n",
            "text/markdown": "1. 1\n2. 4\n3. 3\n\n\n\n**Levels**: 1. '1'\n2. '3'\n3. '4'\n\n\n",
            "text/html": [
              "<style>\n",
              ".list-inline {list-style: none; margin:0; padding: 0}\n",
              ".list-inline>li {display: inline-block}\n",
              ".list-inline>li:not(:last-child)::after {content: \"\\00b7\"; padding: 0 .5ex}\n",
              "</style>\n",
              "<ol class=list-inline><li>1</li><li>4</li><li>3</li></ol>\n",
              "\n",
              "<details>\n",
              "\t<summary style=display:list-item;cursor:pointer>\n",
              "\t\t<strong>Levels</strong>:\n",
              "\t</summary>\n",
              "\t<style>\n",
              "\t.list-inline {list-style: none; margin:0; padding: 0}\n",
              "\t.list-inline>li {display: inline-block}\n",
              "\t.list-inline>li:not(:last-child)::after {content: \"\\00b7\"; padding: 0 .5ex}\n",
              "\t</style>\n",
              "\t<ol class=list-inline><li>'1'</li><li>'3'</li><li>'4'</li></ol>\n",
              "</details>"
            ]
          },
          "metadata": {
            "tags": []
          }
        }
      ]
    },
    {
      "cell_type": "code",
      "metadata": {
        "id": "JYy7AocCi2Bi"
      },
      "source": [
        "# Previsões\n",
        "#previsao_novo_cliente <- predict(modelo_final, newdata = novo_dataset_final, type = \"response\")"
      ],
      "execution_count": 43,
      "outputs": []
    },
    {
      "cell_type": "code",
      "metadata": {
        "id": "cvYJcCWJi-E2"
      },
      "source": [
        ""
      ],
      "execution_count": null,
      "outputs": []
    }
  ]
}