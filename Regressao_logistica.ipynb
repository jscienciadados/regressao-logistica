{
  "nbformat": 4,
  "nbformat_minor": 0,
  "metadata": {
    "colab": {
      "name": "Regressao_logistica.ipynb",
      "provenance": [],
      "authorship_tag": "ABX9TyMz+nG6Z+XvO4lYEIGLe/vM",
      "include_colab_link": true
    },
    "kernelspec": {
      "name": "python3",
      "display_name": "Python 3"
    },
    "language_info": {
      "name": "python"
    }
  },
  "cells": [
    {
      "cell_type": "markdown",
      "metadata": {
        "id": "view-in-github",
        "colab_type": "text"
      },
      "source": [
        "<a href=\"https://colab.research.google.com/github/jscienciadados/regressao-logistica/blob/main/Regressao_logistica.ipynb\" target=\"_parent\"><img src=\"https://colab.research.google.com/assets/colab-badge.svg\" alt=\"Open In Colab\"/></a>"
      ]
    },
    {
      "cell_type": "markdown",
      "metadata": {
        "id": "I55RzRnfO78X"
      },
      "source": [
        "## Estudo de Regressão Logistica"
      ]
    },
    {
      "cell_type": "markdown",
      "metadata": {
        "id": "0iwR3sxCXtpD"
      },
      "source": [
        "## Montando o Drive do Google Driver"
      ]
    },
    {
      "cell_type": "code",
      "metadata": {
        "id": "SeCJxCfIP83I"
      },
      "source": [
        "from google.colab import drive\n",
        "drive.mount('/content/drive')"
      ],
      "execution_count": null,
      "outputs": []
    },
    {
      "cell_type": "code",
      "metadata": {
        "id": "pgglpLooWbmh"
      },
      "source": [
        "import os\n",
        "os.chdir(\"/content/drive/\")\n",
        "!ls"
      ],
      "execution_count": null,
      "outputs": []
    },
    {
      "cell_type": "markdown",
      "metadata": {
        "id": "9Z1amuNE3guz"
      },
      "source": [
        "Lista o conteudo do drive"
      ]
    },
    {
      "cell_type": "code",
      "metadata": {
        "id": "7MnpeljbWtPI"
      },
      "source": [
        "import os\n",
        "os.chdir(\"/content/drive/MyDrive\")\n",
        "!ls"
      ],
      "execution_count": null,
      "outputs": []
    },
    {
      "cell_type": "markdown",
      "metadata": {
        "id": "HMqVhECV3m7n"
      },
      "source": [
        "Carrega os dados diretamente do google drive"
      ]
    },
    {
      "cell_type": "code",
      "metadata": {
        "id": "_hTmsPqfOyX9"
      },
      "source": [
        "import pandas as pd\n",
        "base = pd.read_csv('/content/drive/MyDrive/datasets/census.csv')\n"
      ],
      "execution_count": null,
      "outputs": []
    },
    {
      "cell_type": "code",
      "metadata": {
        "id": "0hmSRvrIRxTG"
      },
      "source": [
        "base.head()"
      ],
      "execution_count": null,
      "outputs": []
    },
    {
      "cell_type": "code",
      "metadata": {
        "id": "BPm3rNgmXrGT"
      },
      "source": [
        "# verificando valores unicos da classe\n",
        "base['income'].unique()"
      ],
      "execution_count": null,
      "outputs": []
    },
    {
      "cell_type": "code",
      "metadata": {
        "id": "7A9XzMLBYVFD"
      },
      "source": [
        "# shape\n",
        "base.shape"
      ],
      "execution_count": null,
      "outputs": []
    },
    {
      "cell_type": "markdown",
      "metadata": {
        "id": "sCjGw0lvYfRO"
      },
      "source": [
        "Gerando as variaveis previsoras"
      ]
    },
    {
      "cell_type": "code",
      "metadata": {
        "id": "sD7UGIxkYcFG"
      },
      "source": [
        "x = base.iloc[:, 0:14].values"
      ],
      "execution_count": null,
      "outputs": []
    },
    {
      "cell_type": "markdown",
      "metadata": {
        "id": "PGe22WQpY-SR"
      },
      "source": [
        "Variavel Target"
      ]
    },
    {
      "cell_type": "code",
      "metadata": {
        "id": "CNivDb8kY9D0"
      },
      "source": [
        "y = base.iloc[:, 14].values"
      ],
      "execution_count": null,
      "outputs": []
    },
    {
      "cell_type": "code",
      "metadata": {
        "id": "xna-D6ZmZH-v"
      },
      "source": [
        "x"
      ],
      "execution_count": null,
      "outputs": []
    },
    {
      "cell_type": "code",
      "metadata": {
        "id": "e6ssxmoTZMaw"
      },
      "source": [
        "y"
      ],
      "execution_count": null,
      "outputs": []
    },
    {
      "cell_type": "markdown",
      "metadata": {
        "id": "lKkuBfFAZRoZ"
      },
      "source": [
        "## Pré-Processamento dos Dados"
      ]
    },
    {
      "cell_type": "code",
      "metadata": {
        "id": "frHZuDgfZwWc"
      },
      "source": [
        "x[0]"
      ],
      "execution_count": null,
      "outputs": []
    },
    {
      "cell_type": "code",
      "metadata": {
        "id": "s5yfqA95ZPDq"
      },
      "source": [
        "from sklearn.preprocessing import LabelEncoder\n",
        "# criando o objeto\n",
        "label_encoder = LabelEncoder()\n",
        "x[:,1] = label_encoder.fit_transform(x[:,1])\n",
        "x[:,3] = label_encoder.fit_transform(x[:,3])\n",
        "x[:,5] = label_encoder.fit_transform(x[:,5])\n",
        "x[:,6] = label_encoder.fit_transform(x[:,6])\n",
        "x[:,7] = label_encoder.fit_transform(x[:,7])\n",
        "x[:,8] = label_encoder.fit_transform(x[:,8])\n",
        "x[:,9] = label_encoder.fit_transform(x[:,9])\n",
        "x[:,13] = label_encoder.fit_transform(x[:,13])"
      ],
      "execution_count": null,
      "outputs": []
    },
    {
      "cell_type": "code",
      "metadata": {
        "id": "PfAnKaACajto"
      },
      "source": [
        "x[0]"
      ],
      "execution_count": null,
      "outputs": []
    },
    {
      "cell_type": "markdown",
      "metadata": {
        "id": "ypfhZJewa0q6"
      },
      "source": [
        "## Padrnização"
      ]
    },
    {
      "cell_type": "code",
      "metadata": {
        "id": "OnpMy5Ital7f"
      },
      "source": [
        "from sklearn.preprocessing import StandardScaler\n",
        "# Gerando o objeto\n",
        "scaler_x = StandardScaler()\n",
        "x = scaler_x.fit_transform(x)"
      ],
      "execution_count": null,
      "outputs": []
    },
    {
      "cell_type": "code",
      "metadata": {
        "id": "3cjNsTTwbSZg"
      },
      "source": [
        "x[0]"
      ],
      "execution_count": null,
      "outputs": []
    },
    {
      "cell_type": "markdown",
      "metadata": {
        "id": "JOj5M7d2bZxF"
      },
      "source": [
        "Divisão dos dadosem treino e teste"
      ]
    },
    {
      "cell_type": "code",
      "metadata": {
        "id": "kkrTkWNubXph"
      },
      "source": [
        "from sklearn.model_selection import train_test_split\n",
        "X_treinamento, X_teste, y_treinamento, y_teste = train_test_split(x, y, test_size = 0.3)"
      ],
      "execution_count": null,
      "outputs": []
    },
    {
      "cell_type": "code",
      "metadata": {
        "id": "NRP5yjqQb5ti"
      },
      "source": [
        "# shape dados de treinamento\n",
        "print(X_treinamento.shape)\n",
        "print('-------------------------')\n",
        "print(y_treinamento.shape)"
      ],
      "execution_count": null,
      "outputs": []
    },
    {
      "cell_type": "code",
      "metadata": {
        "id": "fC4cvPLncKMw"
      },
      "source": [
        "# shape dados de teste\n",
        "print(X_teste.shape)\n",
        "print(y_teste.shape)"
      ],
      "execution_count": null,
      "outputs": []
    },
    {
      "cell_type": "markdown",
      "metadata": {
        "id": "re28415zcw-U"
      },
      "source": [
        "## Modelo de Regressão Logística"
      ]
    },
    {
      "cell_type": "code",
      "metadata": {
        "id": "2jqnCuXZcp-x"
      },
      "source": [
        "from sklearn.linear_model import LogisticRegression\n",
        "modelo = LogisticRegression(max_iter=10000)\n",
        "modelo.fit(X_treinamento, y_treinamento)\n"
      ],
      "execution_count": null,
      "outputs": []
    },
    {
      "cell_type": "markdown",
      "metadata": {
        "id": "SMYbjctSdXz-"
      },
      "source": [
        "## Gerando as Previsoes"
      ]
    },
    {
      "cell_type": "code",
      "metadata": {
        "id": "Ma5PPQhgdSxK"
      },
      "source": [
        "previsoes = modelo.predict(X_teste)"
      ],
      "execution_count": null,
      "outputs": []
    },
    {
      "cell_type": "markdown",
      "metadata": {
        "id": "oeHvlZEAdwX9"
      },
      "source": [
        "## Avaliando a performance do modelo"
      ]
    },
    {
      "cell_type": "code",
      "metadata": {
        "id": "MZ8JvBCT3yAT"
      },
      "source": [
        ""
      ],
      "execution_count": null,
      "outputs": []
    },
    {
      "cell_type": "code",
      "metadata": {
        "id": "LuZv9SMddhIP"
      },
      "source": [
        "from sklearn.metrics import accuracy_score\n",
        "taxa_acerto = accuracy_score(y_teste, previsoes)\n",
        "print(taxa_acerto)"
      ],
      "execution_count": null,
      "outputs": []
    },
    {
      "cell_type": "code",
      "metadata": {
        "id": "Ss-2dwj_eFy9"
      },
      "source": [
        ""
      ],
      "execution_count": null,
      "outputs": []
    }
  ]
}